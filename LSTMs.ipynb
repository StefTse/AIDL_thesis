{
 "cells": [
  {
   "cell_type": "code",
   "execution_count": 1,
   "id": "e2bb0af0",
   "metadata": {},
   "outputs": [
    {
     "name": "stdout",
     "output_type": "stream",
     "text": [
      "Index(['Text', 'Emotion'], dtype='object')\n",
      "\n",
      "(118961, 2)\n",
      "                                                Text   Emotion\n",
      "0                            i didnt feel humiliated  negative\n",
      "1  i can go from feeling so hopeless to so damned...  negative\n",
      "2   im grabbing a minute to post i feel greedy wrong  negative\n",
      "3  i am ever feeling nostalgic about the fireplac...  positive\n",
      "4                               i am feeling grouchy  negative\n",
      "\n"
     ]
    },
    {
     "data": {
      "text/plain": [
       "(118961, 2)"
      ]
     },
     "execution_count": 1,
     "metadata": {},
     "output_type": "execute_result"
    }
   ],
   "source": [
    "#Import modules and data\n",
    "import pandas as pd\n",
    "import numpy as np\n",
    "import tensorflow as tf\n",
    "\n",
    "from sklearn.model_selection import train_test_split\n",
    "from tensorflow.keras.preprocessing.text import Tokenizer\n",
    "from tensorflow.keras.preprocessing.sequence import pad_sequences\n",
    "from tensorflow.keras.layers import Embedding, LSTM, Dense, Dropout\n",
    "from tensorflow.keras.optimizers import Adam\n",
    "from tensorflow.keras.models import Sequential\n",
    "from sklearn.metrics import classification_report\n",
    "\n",
    "\n",
    "Emo_Data_polarity=pd.read_csv('Emo_Data_polarity.csv')\n",
    "\n",
    "print(Emo_Data_polarity.columns)\n",
    "print('')\n",
    "print(Emo_Data_polarity.shape)\n",
    "print(Emo_Data_polarity.head())\n",
    "print('')\n",
    "Emo_Data_polarity.shape"
   ]
  },
  {
   "cell_type": "code",
   "execution_count": 2,
   "id": "84c82b35",
   "metadata": {},
   "outputs": [
    {
     "data": {
      "text/plain": [
       "array(['negative', 'positive', 'ambiguous', 'neutral'], dtype=object)"
      ]
     },
     "execution_count": 2,
     "metadata": {},
     "output_type": "execute_result"
    }
   ],
   "source": [
    "Emo_Data_polarity['Emotion'].unique()"
   ]
  },
  {
   "cell_type": "code",
   "execution_count": 3,
   "id": "6930efdc",
   "metadata": {},
   "outputs": [
    {
     "data": {
      "text/plain": [
       "array([1, 2, 3, 0])"
      ]
     },
     "execution_count": 3,
     "metadata": {},
     "output_type": "execute_result"
    }
   ],
   "source": [
    "# Replacing intent text values to numerical\n",
    "Emo_Data_polarity=Emo_Data_polarity.replace({\"neutral\":0,\"negative\":1,\"positive\":2, \"ambiguous\":3})\n",
    "Emo_Data_polarity['Emotion'].unique()"
   ]
  },
  {
   "cell_type": "code",
   "execution_count": 4,
   "id": "da9ca8d1",
   "metadata": {},
   "outputs": [
    {
     "data": {
      "text/plain": [
       "((96357,), (10707,), (11897,), (96357,), (10707,), (11897,))"
      ]
     },
     "execution_count": 4,
     "metadata": {},
     "output_type": "execute_result"
    }
   ],
   "source": [
    "# train, validation and test split dataset\n",
    "x_train, x_test, y_train, y_test = train_test_split(Emo_Data_polarity[\"Text\"], Emo_Data_polarity[\"Emotion\"], test_size = 0.1, shuffle=True, random_state = 1)\n",
    "x_train, x_val, y_train, y_val = train_test_split(x_train, y_train, test_size = 0.1, shuffle=True, random_state = 1) \n",
    "x_train.shape, x_val.shape, x_test.shape, y_train.shape, y_val.shape, y_test.shape"
   ]
  },
  {
   "cell_type": "code",
   "execution_count": 5,
   "id": "68da1992",
   "metadata": {},
   "outputs": [
    {
     "name": "stderr",
     "output_type": "stream",
     "text": [
      "[nltk_data] Downloading package stopwords to\n",
      "[nltk_data]     /Users/stef_tse/nltk_data...\n",
      "[nltk_data]   Unzipping corpora/stopwords.zip.\n",
      "[nltk_data] Downloading package punkt to /Users/stef_tse/nltk_data...\n"
     ]
    },
    {
     "name": "stdout",
     "output_type": "stream",
     "text": [
      "['i', 'me', 'my', 'myself', 'we', 'our', 'ours', 'ourselves', 'you', \"you're\", \"you've\", \"you'll\", \"you'd\", 'your', 'yours', 'yourself', 'yourselves', 'he', 'him', 'his', 'himself', 'she', \"she's\", 'her', 'hers', 'herself', 'it', \"it's\", 'its', 'itself', 'they', 'them', 'their', 'theirs', 'themselves', 'what', 'which', 'who', 'whom', 'this', 'that', \"that'll\", 'these', 'those', 'am', 'is', 'are', 'was', 'were', 'be', 'been', 'being', 'have', 'has', 'had', 'having', 'do', 'does', 'did', 'doing', 'a', 'an', 'the', 'and', 'but', 'if', 'or', 'because', 'as', 'until', 'while', 'of', 'at', 'by', 'for', 'with', 'about', 'against', 'between', 'into', 'through', 'during', 'before', 'after', 'above', 'below', 'to', 'from', 'up', 'down', 'in', 'out', 'on', 'off', 'over', 'under', 'again', 'further', 'then', 'once', 'here', 'there', 'when', 'where', 'why', 'how', 'all', 'any', 'both', 'each', 'few', 'more', 'most', 'other', 'some', 'such', 'no', 'nor', 'not', 'only', 'own', 'same', 'so', 'than', 'too', 'very', 's', 't', 'can', 'will', 'just', 'don', \"don't\", 'should', \"should've\", 'now', 'd', 'll', 'm', 'o', 're', 've', 'y', 'ain', 'aren', \"aren't\", 'couldn', \"couldn't\", 'didn', \"didn't\", 'doesn', \"doesn't\", 'hadn', \"hadn't\", 'hasn', \"hasn't\", 'haven', \"haven't\", 'isn', \"isn't\", 'ma', 'mightn', \"mightn't\", 'mustn', \"mustn't\", 'needn', \"needn't\", 'shan', \"shan't\", 'shouldn', \"shouldn't\", 'wasn', \"wasn't\", 'weren', \"weren't\", 'won', \"won't\", 'wouldn', \"wouldn't\"]\n"
     ]
    },
    {
     "name": "stderr",
     "output_type": "stream",
     "text": [
      "[nltk_data]   Unzipping tokenizers/punkt.zip.\n"
     ]
    }
   ],
   "source": [
    "import re\n",
    "from collections import Counter\n",
    "import nltk\n",
    "nltk.download('stopwords')\n",
    "from nltk.corpus import stopwords\n",
    "nltk.download('punkt')\n",
    "from nltk.tokenize import word_tokenize\n",
    "print(stopwords.words('english'))\n",
    "stop_words = stopwords.words('english')"
   ]
  },
  {
   "cell_type": "code",
   "execution_count": 6,
   "id": "6d86b2ec",
   "metadata": {},
   "outputs": [
    {
     "data": {
      "text/plain": [
       "86935    shows similar people kind situation demanding ...\n",
       "10905                      feel took lot guts part admired\n",
       "93263                 thank  thinking man never corrected \n",
       "35319    sarahstanley shudder thought thinking d d mana...\n",
       "24972                                     living ignorance\n",
       "Name: Text, dtype: object"
      ]
     },
     "execution_count": 6,
     "metadata": {},
     "output_type": "execute_result"
    }
   ],
   "source": [
    "def preprocess(text):\n",
    "  text = nltk.word_tokenize(text.lower()) #lower case\n",
    "  text = [w for w in text if not w in stop_words]\n",
    "  text = (\" \").join(text)\n",
    "  text = re.sub(r\"[^a-zA-Z0-9.!?]+\", r\" \", text)\n",
    "  text = re.sub(r\"\\s+\", r\" \", text).strip()\n",
    "  text = re.sub(r'[^\\w\\s]', '', text)\n",
    "  \n",
    "  return text\n",
    "\n",
    "x_train = x_train.apply(preprocess)\n",
    "x_val =x_val.apply(preprocess)\n",
    "x_test = x_test.apply(preprocess)\n",
    "\n",
    "x_train.head()"
   ]
  },
  {
   "cell_type": "code",
   "execution_count": 7,
   "id": "08d18a7f",
   "metadata": {},
   "outputs": [
    {
     "data": {
      "text/plain": [
       "Counter({'': 70,\n",
       "         'name ': 18,\n",
       "         ' ': 17,\n",
       "         'name': 17,\n",
       "         'thank ': 16,\n",
       "         'thanks': 13,\n",
       "         'love': 13,\n",
       "         'love ': 12,\n",
       "         'thanks ': 11,\n",
       "         'like ': 11,\n",
       "         'happy cake day ': 10,\n",
       "         'work': 9,\n",
       "         'oh ': 8,\n",
       "         'yes ': 8,\n",
       "         'happy mothers day ': 8,\n",
       "         'thank': 7,\n",
       "         'fun ': 7,\n",
       "         'oh name ': 7,\n",
       "         'good': 7,\n",
       "         'oh name': 7,\n",
       "         'like': 6,\n",
       "         'happy new year ': 6,\n",
       "         'cute ': 6,\n",
       "         'happy mother s day moms ': 6,\n",
       "         'happy star wars day': 6,\n",
       "         'thank  ': 6,\n",
       "         'love name': 6,\n",
       "         'bad day': 5,\n",
       "         'name name': 5,\n",
       "         'beautiful ': 5,\n",
       "         'thank much': 5,\n",
       "         'proud ': 5,\n",
       "         'happy cake day': 5,\n",
       "         'true': 5,\n",
       "         'awesome ': 5,\n",
       "         'like name': 5,\n",
       "         'thank much ': 5,\n",
       "         'true ': 5,\n",
       "         'lol ': 5,\n",
       "         'say ': 5,\n",
       "         'tired ': 5,\n",
       "         'name  ': 5,\n",
       "         'name name ': 5,\n",
       "         'amazing': 5,\n",
       "         'goodnight': 5,\n",
       "         'good ': 5,\n",
       "         'damn ': 5,\n",
       "         'sorry ': 5,\n",
       "         'funny': 5,\n",
       "         'feel wronged': 5,\n",
       "         'work ': 5,\n",
       "         'good job ': 4,\n",
       "         ' thank ': 4,\n",
       "         'good morning everyone': 4,\n",
       "         'beautiful': 4,\n",
       "         'happy mother s day mothers ': 4,\n",
       "         'feel troubled': 4,\n",
       "         'funny ': 4,\n",
       "         'feel overwhelmed': 4,\n",
       "         'headache': 4,\n",
       "         'one ': 4,\n",
       "         'amazing ': 4,\n",
       "         'happy mother s day': 4,\n",
       "         'cute': 4,\n",
       "         'good luck ': 4,\n",
       "         'bored ': 4,\n",
       "         'love name ': 4,\n",
       "         'm ': 4,\n",
       "         'feel glad': 4,\n",
       "         'joke': 4,\n",
       "         'n t ': 4,\n",
       "         'bad': 4,\n",
       "         'time': 4,\n",
       "         'fuck': 4,\n",
       "         'right': 4,\n",
       "         'sorry': 4,\n",
       "         'please ': 4,\n",
       "         'good morning ': 4,\n",
       "         'miss ': 4,\n",
       "         'ok ': 4,\n",
       "         'happy ': 4,\n",
       "         'yes': 4,\n",
       "         'see': 3,\n",
       "         'sorry loss ': 3,\n",
       "         'love username': 3,\n",
       "         'like idea ': 3,\n",
       "         'name work ': 3,\n",
       "         's name ': 3,\n",
       "         's': 3,\n",
       "         'cold': 3,\n",
       "         '  ': 3,\n",
       "         'feel dumb': 3,\n",
       "         'horrible': 3,\n",
       "         's ': 3,\n",
       "         'really ': 3,\n",
       "         'thanks name ': 3,\n",
       "         'feel cold': 3,\n",
       "         'makes sense ': 3,\n",
       "         'problem ': 3,\n",
       "         'feel scared': 3,\n",
       "         'mean': 3,\n",
       "         'tummy hurts': 3,\n",
       "         'brilliant': 3,\n",
       "         'hope': 3,\n",
       "         'like name ': 3,\n",
       "         'haha love ': 3,\n",
       "         'fuck ': 3,\n",
       "         'brilliant ': 3,\n",
       "         'really': 3,\n",
       "         'got ': 3,\n",
       "         'friend': 3,\n",
       "         'happy mother s day ': 3,\n",
       "         'thank name': 3,\n",
       "         'feel ashamed': 3,\n",
       "         'sad': 3,\n",
       "         'happy mother s day moms': 3,\n",
       "         'bless heart': 3,\n",
       "         'back work': 3,\n",
       "         'n t know': 3,\n",
       "         'bless ': 3,\n",
       "         'feel unwelcome': 3,\n",
       "         'happy birthday name ': 3,\n",
       "         'thanks name': 3,\n",
       "         'feel useful': 3,\n",
       "         'feel confused': 3,\n",
       "         'feel skeptical': 3,\n",
       "         'tell ': 3,\n",
       "         'scary ': 3,\n",
       "         'thank name ': 3,\n",
       "         'may 4th': 3,\n",
       "         'happy mothers day': 3,\n",
       "         'cool': 3,\n",
       "         'tummy hurts ': 3,\n",
       "         'feel accepted': 3,\n",
       "         'name freak ': 3,\n",
       "         'feel stressed': 3,\n",
       "         'source ': 3,\n",
       "         'thanks man ': 3,\n",
       "         'welcome ': 3,\n",
       "         'feeling grouchy': 3,\n",
       "         'feel tortured': 3,\n",
       "         'first thought': 3,\n",
       "         'agree': 3,\n",
       "         'oh': 3,\n",
       "         'okay ': 3,\n",
       "         'home': 3,\n",
       "         'bad ': 3,\n",
       "         'nothing': 3,\n",
       "         'feel proud': 3,\n",
       "         'glad': 3,\n",
       "         'great': 3,\n",
       "         'cool ': 3,\n",
       "         'wow ': 3,\n",
       "         'already': 3,\n",
       "         'happy': 3,\n",
       "         'lost ': 3,\n",
       "         'happy mother s day mums': 2,\n",
       "         'hello twitter': 2,\n",
       "         'looks like name': 2,\n",
       "         'wondering thing ': 2,\n",
       "         'laughed hard ': 2,\n",
       "         'wellity  think ima gon na clean room gay  need read good book  sense sensibility come  beat lily': 2,\n",
       "         ' like': 2,\n",
       "         'idiots ': 2,\n",
       "         'work work work': 2,\n",
       "         'hey thanks ': 2,\n",
       "         'feel defective': 2,\n",
       "         'twitter ': 2,\n",
       "         'better name ': 2,\n",
       "         'fun': 2,\n",
       "         'homework': 2,\n",
       "         'name wish': 2,\n",
       "         'iamkiara im sick fell last night outside coz putting something bin': 2,\n",
       "         'u ': 2,\n",
       "         'genius ': 2,\n",
       "         'thank support ': 2,\n",
       "         'wants hear voice': 2,\n",
       "         'happy mother s day mothers': 2,\n",
       "         'damn straight ': 2,\n",
       "         'feel respected': 2,\n",
       "         'stupid sexy name': 2,\n",
       "         'need help ': 2,\n",
       "         'calm name ': 2,\n",
       "         'perfect ': 2,\n",
       "         ' s': 2,\n",
       "         'help ': 2,\n",
       "         'thanks  ': 2,\n",
       "         'good one ': 2,\n",
       "         'nice weather  looks like going rain delhi ': 2,\n",
       "         'thanks much ': 2,\n",
       "         'crying  crying ': 2,\n",
       "         'late ': 2,\n",
       "         'feel weird': 2,\n",
       "         ' remindme 1 day': 2,\n",
       "         'lmao': 2,\n",
       "         'im feeling homesick': 2,\n",
       "         'name intensifies': 2,\n",
       "         'work day': 2,\n",
       "         'joke ': 2,\n",
       "         'seriously ': 2,\n",
       "         'mean s wrong': 2,\n",
       "         'shopping ': 2,\n",
       "         'head hurts': 2,\n",
       "         'feel dirty': 2,\n",
       "         'almost lunch time': 2,\n",
       "         'lonely': 2,\n",
       "         'agree ': 2,\n",
       "         'morning everyone ': 2,\n",
       "         'nerve ': 2,\n",
       "         'sign': 2,\n",
       "         'oh bad': 2,\n",
       "         'ive feeling listless lately': 2,\n",
       "         'asshole ': 2,\n",
       "         'perfect': 2,\n",
       "         'feel welcomed': 2,\n",
       "         'actually ': 2,\n",
       "         'im feeling little stressed': 2,\n",
       "         'thanks laugh': 2,\n",
       "         'feel clever': 2,\n",
       "         'believe ': 2,\n",
       "         'feel helpless': 2,\n",
       "         'feeling little nostalgic': 2,\n",
       "         'miss name': 2,\n",
       "         'terrifying': 2,\n",
       "         'please visit http vzerohostcom info sign alpha test image hosting service ': 2,\n",
       "         'feel sad': 2,\n",
       "         'believe': 2,\n",
       "         'feel agitated': 2,\n",
       "         'thank man': 2,\n",
       "         'ca n t wait ': 2,\n",
       "         'feeling better ': 2,\n",
       "         'think': 2,\n",
       "         'hurt ': 2,\n",
       "         'good morning world': 2,\n",
       "         'upset': 2,\n",
       "         'mileycyrus ca n t vote stopped voting': 2,\n",
       "         'brave man ': 2,\n",
       "         'miss': 2,\n",
       "         'dont believe': 2,\n",
       "         'disgusting ': 2,\n",
       "         'cleaned followers list blocked porn girls amp crap look like spammer': 2,\n",
       "         'surprised': 2,\n",
       "         'found rollo  got happy hmmm  guess really need inserted back matrix 0 o': 2,\n",
       "         'feel depressed': 2,\n",
       "         'stop ': 2,\n",
       "         'wonder ': 2,\n",
       "         'wan na go': 2,\n",
       "         'ok thanks': 2,\n",
       "         'huh ': 2,\n",
       "         'feel fucked days': 2,\n",
       "         'wish thing': 2,\n",
       "         'thank advice ': 2,\n",
       "         'sweet': 2,\n",
       "         'hell': 2,\n",
       "         'happy mothers day moms ': 2,\n",
       "         'feel messy': 2,\n",
       "         'could n t agree ': 2,\n",
       "         'love username ': 2,\n",
       "         'want candy   ': 2,\n",
       "         'im feeling relaxed': 2,\n",
       "         'feel fake': 2,\n",
       "         'great ': 2,\n",
       "         'congratulations': 2,\n",
       "         'yes yes yes yes': 2,\n",
       "         'good weekend': 2,\n",
       "         'happy mothers day mum': 2,\n",
       "         'happy star wars day everyone': 2,\n",
       "         'second': 2,\n",
       "         'link': 2,\n",
       "         'happy birthday ': 2,\n",
       "         'feel safe': 2,\n",
       "         ' thanks ': 2,\n",
       "         'feel bad': 2,\n",
       "         'thanks hate': 2,\n",
       "         'people': 2,\n",
       "         'wait   ': 2,\n",
       "         'mitchelmusso done ': 2,\n",
       "         'good luck interview ': 2,\n",
       "         'go': 2,\n",
       "         'feel devastated': 2,\n",
       "         'thank much  means lot ': 2,\n",
       "         'know': 2,\n",
       "         'want hug ': 2,\n",
       "         'embarrassing ': 2,\n",
       "         'thanks advice ': 2,\n",
       "         'name hope ': 2,\n",
       "         'feel numb': 2,\n",
       "         'happy star wars day  may 4th': 2,\n",
       "         'cheers': 2,\n",
       "         'im feeling pissed': 2,\n",
       "         'feel defeated': 2,\n",
       "         ' love ': 2,\n",
       "         'thank kind words ': 2,\n",
       "         'happy mother s day everyone': 2,\n",
       "         'p9 danica team  end world hopes great race': 2,\n",
       "         'happy mothers day mom ': 2,\n",
       "         'baby ': 2,\n",
       "         'man ': 2,\n",
       "         'name love': 2,\n",
       "         'see ': 2,\n",
       "         'exactly thinking ': 2,\n",
       "         's racist ': 2,\n",
       "         'like turtles': 2,\n",
       "         'feel submissive': 2,\n",
       "         'aw': 2,\n",
       "         'feel apprehensive': 2,\n",
       "         'many questions ': 2,\n",
       "         'love much': 2,\n",
       "         'going work': 2,\n",
       "         'yup  lol': 2,\n",
       "         'feel inside cause life like game sometimes came around walls disappeared nothing surround keep fears im unprotected see ive opened oh youve made trust cause ive never felt like im naked around show': 2,\n",
       "         'work go': 2,\n",
       "         'windy ': 2,\n",
       "         '   ': 2,\n",
       "         'yes    ': 2,\n",
       "         ' thank': 2,\n",
       "         'shower time': 2,\n",
       "         'happy mothers day  love mom ': 2,\n",
       "         'happy mother s day mothers  ': 2,\n",
       "         'feel fucked': 2,\n",
       "         'happy mothers day mums': 2,\n",
       "         'die ': 2,\n",
       "         'plan ': 2,\n",
       "         'feel sincere': 2,\n",
       "         'feeling sociable': 2,\n",
       "         'lol love ': 2,\n",
       "         'feel rejected unwanted': 2,\n",
       "         'go work ': 2,\n",
       "         'go ': 2,\n",
       "         'coming ': 2,\n",
       "         'sorry happened ': 2,\n",
       "         's fun': 2,\n",
       "         'painful': 2,\n",
       "         'cayogial wanted come bz summer sure anymore  teacher s life summer sucks': 2,\n",
       "         'hell yeah ': 2,\n",
       "         'feel glamorous': 2,\n",
       "         'good know  thanks ': 2,\n",
       "         'sounds fun ': 2,\n",
       "         'ok thanks ': 2,\n",
       "         'love u': 2,\n",
       "         'appreciate ': 2,\n",
       "         'love show': 2,\n",
       "         'dad asked sticking tongue ironing told n t burn finger burnt finger': 2,\n",
       "         'wait ': 2,\n",
       "         'love subreddit': 2,\n",
       "         'im feeling festive': 2,\n",
       "         's gon na dawg ': 2,\n",
       "         'part ': 2,\n",
       "         'feel complimented insulted': 2,\n",
       "         'da real mvp': 2,\n",
       "         'happy star wars day may fourth ': 2,\n",
       "         'chilling home': 2,\n",
       "         'work go ': 2,\n",
       "         'confusion ': 2,\n",
       "         'get ': 2,\n",
       "         'twittering': 2,\n",
       "         'wishing mothers happy mother s day': 2,\n",
       "         'remindme  1 day': 2,\n",
       "         'hit little close home': 2,\n",
       "         'feel triumphant': 2,\n",
       "         'happy mother s day mom s': 2,\n",
       "         'seem fun ': 2,\n",
       "         'good man': 2,\n",
       "         'new twitter': 2,\n",
       "         'thought one': 2,\n",
       "         'feel better': 2,\n",
       "         'left feeling entertained empty': 2,\n",
       "         'sounds good ': 2,\n",
       "         's great ': 2,\n",
       "         'm jealous ': 2,\n",
       "         'feel ya': 2,\n",
       "         'yeah ': 2,\n",
       "         'actual fuck ': 2,\n",
       "         's raining ': 2,\n",
       "         'okay thanks ': 2,\n",
       "         'sadly': 2,\n",
       "         'feel delicate': 2,\n",
       "         'congrats coming': 2,\n",
       "         'feel jaded': 2,\n",
       "         'happy mothers day   ': 2,\n",
       "         'feel': 2,\n",
       "         'thanks response ': 2,\n",
       "         'sure ': 2,\n",
       "         'hate': 2,\n",
       "         'feel inspired': 2,\n",
       "         'hi name ': 2,\n",
       "         'happy mothers day  ': 2,\n",
       "         'feel fine': 2,\n",
       "         'president ': 2,\n",
       "         'name   ': 2,\n",
       "         'feel pain ': 2,\n",
       "         'happy mothers day mommies': 2,\n",
       "         'name wish ': 2,\n",
       "         'sorry deal': 2,\n",
       "         'mothers day': 2,\n",
       "         'oh dead': 2,\n",
       "         'feel disheartened': 2,\n",
       "         'friend ': 2,\n",
       "         'im sorry': 2,\n",
       "         'serious ': 2,\n",
       "         'bored': 2,\n",
       "         'nailed ': 2,\n",
       "         'good one': 2,\n",
       "         'ugh ': 2,\n",
       "         'beautifully written ': 2,\n",
       "         'episode ': 2,\n",
       "         'tired': 2,\n",
       "         'thanks clarification': 2,\n",
       "         'feeling fine': 2,\n",
       "         'still child': 2,\n",
       "         'tonight fun': 2,\n",
       "         'accurate': 2,\n",
       "         'worries ': 2,\n",
       "         'happy help': 2,\n",
       "         'work time ': 2,\n",
       "         'm hungry': 2,\n",
       "         're welcome': 2,\n",
       "         'ammoxxx great day  woman notice smile never disappeared face  ha murray  cos owe': 2,\n",
       "         'feeling happy': 2,\n",
       "         'cool story bro ': 2,\n",
       "         'angry ': 2,\n",
       "         'weird flex ok': 2,\n",
       "         'still waiting ': 2,\n",
       "         'feeling pissed': 2,\n",
       "         'feeling discouraged': 2,\n",
       "         'good bot ': 2,\n",
       "         'annoyed': 2,\n",
       "         'thanks hate ': 2,\n",
       "         'feeling productive': 2,\n",
       "         'feel passionate': 2,\n",
       "         'calm satan': 2,\n",
       "         'happy mothers day mommies ': 2,\n",
       "         'actually': 2,\n",
       "         'wrong ': 2,\n",
       "         'feeling low': 2,\n",
       "         'feel pissed': 2,\n",
       "         'mean ': 2,\n",
       "         'kbal24 sorry feeling way ': 2,\n",
       "         'sunburn hurts ': 2,\n",
       "         'accurate ': 2,\n",
       "         'bye name ': 2,\n",
       "         'know exactly': 2,\n",
       "         'shut name ': 2,\n",
       "         'early': 2,\n",
       "         'thank friend': 2,\n",
       "         'say': 2,\n",
       "         'thank concern fellow conservative': 2,\n",
       "         'good morning': 2,\n",
       "         'anyone mirror ': 2,\n",
       "         'good idea thanks': 2,\n",
       "         'welcome': 2,\n",
       "         'weird flex okay': 2,\n",
       "         'yes yes': 2,\n",
       "         'gods work ': 2,\n",
       "         'n t feel good': 2,\n",
       "         'm sorry': 2,\n",
       "         'tummy ache ': 2,\n",
       "         'hate ': 2,\n",
       "         'happened  ': 2,\n",
       "         'idratherbeski siriuslyheather follow': 2,\n",
       "         'awesome thank ': 2,\n",
       "         'feel useless': 2,\n",
       "         'feel loving': 2,\n",
       "         'future old man': 2,\n",
       "         '11 11 make wish': 2,\n",
       "         'shows similar people kind situation demanding rude sometimes damage stuff without care': 1,\n",
       "         'feel took lot guts part admired': 1,\n",
       "         'thank  thinking man never corrected ': 1,\n",
       "         'sarahstanley shudder thought thinking d d managed reclaim ': 1,\n",
       "         'living ignorance': 1,\n",
       "         '10min brake  wrrkk  11 06  11 16': 1,\n",
       "         'name guy root  hope good enjoyable game': 1,\n",
       "         'feel submissive place work environment': 1,\n",
       "         'brainofdane dude  re hax0r    1  put final cut pro tell stable': 1,\n",
       "         'bout go work': 1,\n",
       "         'morning ali big thank yesterday love always xxxx  bike today  n t forget get helmet ok': 1,\n",
       "         'manamoose ca n t believe went got boba without ': 1,\n",
       "         'glasses name made regain interest show  pluuus want know happens name s favourite character': 1,\n",
       "         'watched another episode jonas  better hannah montana  much true ': 1,\n",
       "         'say feel slightly envious julian': 1,\n",
       "         'know pair socks took two months make feel truly truly distracted strings like call': 1,\n",
       "         'waaayyyy hungry  oh fyi work email blah ': 1,\n",
       "         'looove bf u awesoome     hannah montana movie amazing best movie ever   cool http gykdnet': 1,\n",
       "         'sounds terrible man  doctor yet ': 1,\n",
       "         'yep  lots younger generation obsessed phones emotionally rocky tend engage behavior especially women whole instagram obsessions ': 1,\n",
       "         'growth persist forever finite system ': 1,\n",
       "         'ooooooo  yikes': 1,\n",
       "         'uh  finally home completely wiped ': 1,\n",
       "         'also remember scripts stating name look one jealousy disappoints ': 1,\n",
       "         'actually listed trade haha  use paypal unfortunately 18': 1,\n",
       "         'looks like something name brothers would create ': 1,\n",
       "         'pretty sweet  burn alive   nothing detract beliefs ': 1,\n",
       "         'check bowl ': 1,\n",
       "         'came back seeing boat rocked amazingly cool movie definitely getting dvd': 1,\n",
       "         'field day  lots great action fotos  ate lunch need 2 showr tidy hse get ready 4 stamp club  btw mexican skin got 2 tan 2day': 1,\n",
       "         'people understand word allegation anymore innocent proven guilty ': 1,\n",
       "         'awe whole hour spent ': 1,\n",
       "         'heart  http blipfm 5jo4w': 1,\n",
       "         'need vent anything let know  d glad chat even listen whatever helps  stay strong ': 1,\n",
       "         'bf got  s obsessed': 1,\n",
       "         'listening parents playground formal events parents evenings alert staff early stages parental disqui': 1,\n",
       "         'kinda like thing comes ground smells nice think  confirm': 1,\n",
       "         'janeejohnson y all say trust one': 1,\n",
       "         'first damn block secondly really smart timeout  expected prayer shot ': 1,\n",
       "         'help feel nostalgic every time listen': 1,\n",
       "         'another baby bear  prepping new propaganda assault ': 1,\n",
       "         's raining cats dogs gda  sk today looks nice though window': 1,\n",
       "         'feel embarrassed though think really red faced steam emerging feel need better artist': 1,\n",
       "         'understand  sorry happened  stay strong ': 1,\n",
       "         'would think would pretty awkward phone sex stranger': 1,\n",
       "         'miss tattoo hey girl  m new follower think s awesome ve gotten chance get close donnie  cool  ': 1,\n",
       "         'beta tested gwent  everything launch d still rather play minigame witcher 3 ': 1,\n",
       "         'waiting line beast matthew  wo n t riding ': 1,\n",
       "         'agree n t deserve happiness since taken  ': 1,\n",
       "         'except seems like constant jerking dmc one several things could led drifting apart ': 1,\n",
       "         'name name name years  n t realise still ': 1,\n",
       "         'progressively getting done feeling pretty confident get done hit close wire': 1,\n",
       "         'clocsen accept blame  said quot english quot language could n t say quot british quot could ': 1,\n",
       "         'imthinking loveeee john ritter': 1,\n",
       "         'sittin home watchin monster in law waitin pizza  yum yum': 1,\n",
       "         'home love traveling nothing like coming home ': 1,\n",
       "         'excited  http plurkcom p stk04': 1,\n",
       "         'let s hope ve got self control binge know n t': 1,\n",
       "         'weird ive attempted scam twice im nobody  probably less amatur x d': 1,\n",
       "         'congratulations poorly written video game story history made think twice  must genius ': 1,\n",
       "         'awesome  thank much ': 1,\n",
       "         'jacoblovie haha s awful think everyone hates sound voice hear played back know  ': 1,\n",
       "         'feeling jaded': 1,\n",
       "         'worse movie jump scare  n t know giant squid feel fearsome sharks ': 1,\n",
       "         'man myth legend name seriously thinking buying new jersey name back': 1,\n",
       "         'n t  mental illness serious thing n t encourage crazy people instead help': 1,\n",
       "         'part adult putting awkward back burner things important need said ': 1,\n",
       "         'likely scam': 1,\n",
       "         'n t go pushing shame others  pull weight dude ': 1,\n",
       "         'ca n t even gift money away days  http ffim 3lqux': 1,\n",
       "         'feel honored insulted': 1,\n",
       "         'think thought years ago heard making third trailer park boys movie wanted see ': 1,\n",
       "         'actually live place called star city ironically really small town thought coolest thing ': 1,\n",
       "         'ive watching episodes quantum leap recently show ive always loved suddenly struck today thats exactly feel unfortunate missed show focuses character named dr': 1,\n",
       "         'great weekend stuttgart befah conference  wonderful people nice discussions lots fun  together re strong ': 1,\n",
       "         'would name even care lol reminds name name see lot': 1,\n",
       "         'nothings better going chinese supperinn fave cousins 1am': 1,\n",
       "         'hates everything seafood  esp smell  happened serve lobster chow hall  noooowww got ta headache  ugh  smh ': 1,\n",
       "         'cindaxo straightener s another 110 pounds though  seems pricey': 1,\n",
       "         'gleegirloz life short  know slefish wish everybody would outlive': 1,\n",
       "         'toast morning': 1,\n",
       "         'mariajessica yup sometimes kc s raining pque las pinas s  wondering ': 1,\n",
       "         'suck fat women ': 1,\n",
       "         'feel drastically inadequate needs feel swirling around': 1,\n",
       "         'im sad feel every heartbroken song written': 1,\n",
       "         'congratulations    hope people tried interfere marriage feel foolish  wonderful ': 1,\n",
       "         'sophieveronica ha ha abbreviate s bulky': 1,\n",
       "         'thanks bro ': 1,\n",
       "         'disrespect name  beautiful good man   name far near pretty ': 1,\n",
       "         'son brings homework kindergarten  feel betrayed ': 1,\n",
       "         'sub filled bitterness ': 1,\n",
       "         'yes  little crybabies call fascist  people kill fascists fascists right ': 1,\n",
       "         'honestly believe  name seems stuck high school mentality': 1,\n",
       "         'goodbye name  hope get reincarnated someone stay awake 15 minutes ': 1,\n",
       "         'alchemuse oh noes  hope feel better soon  head sympathizes ': 1,\n",
       "         'feel like almost convinced going pattern': 1,\n",
       "         'n t bother reason m lactose intolerant ': 1,\n",
       "         'east germany two men formerly regarded untouchable pillars old regime rightly wrongly become focus over zealous sometimes bizarre persecution legal authorities indignant pub': 1,\n",
       "         'guy loves drama': 1,\n",
       "         'tired n t really exciting saturday  oh well hope s better tomorrow ': 1,\n",
       "         'flatmatescomic good enough ': 1,\n",
       "         'lou lantos jeff ca n t forcast tonight  says saturday s good 8 30 time  know n t life saturdays ': 1,\n",
       "         'feel part pride still believe dykes bikes stand still proud lead pride march': 1,\n",
       "         'ruis3rra ehhehehe thanks': 1,\n",
       "         'countingcrows m totally gutted ended foot cast today ca n t travel nottingham see guys xxx': 1,\n",
       "         'know one moment guy snuck name room night wore helmet': 1,\n",
       "         'h0ney curry shrimp yesterday lol love seafood': 1,\n",
       "         'london  tourist thing ': 1,\n",
       "         'sickophantikmnd exactly  silent treatment great torture method': 1,\n",
       "         'thinks coast capital sent work number telemarketers': 1,\n",
       "         'correct assuming categorically oppose ridicule public figures society reason ': 1,\n",
       "         'ahh man getting ready work wan na sleep   ': 1,\n",
       "         'going work amazing charity event big brothers big sisters  n t mind working good cause': 1,\n",
       "         'alternatefinch s people recommending others follow like followfriday pics ': 1,\n",
       "         'feel intimidated like want turn around head back safety yoga class hop tried trusty treadmill': 1,\n",
       "         'terrible thing someone let laugh reddit account': 1,\n",
       "         'pleasantly surprised clicked link': 1,\n",
       "         'want see someone get decimated name hit': 1,\n",
       "         'shen computer broke time get old ibm ': 1,\n",
       "         'noticed go start feel irritated easily annoyed things feel tiny ache inside almost unnoticeable first days tiny hair burrowed way foot': 1,\n",
       "         'hey s 2 weeks friends still stuck 60 ish ranks gathering info mm ': 1,\n",
       "         'right  20 years together suddenly  m tired crying hurting  ll get ': 1,\n",
       "         'sent leeds united 1993 94 squad picture evening post adorns office wall much amusement colleag': 1,\n",
       "         'probably alive  end video see getting n t visible injuries ': 1,\n",
       "         'recovering bad fall lunch  great start weekend ': 1,\n",
       "         'werewolfseth think niece got sickee lame ': 1,\n",
       "         'saw history  makes complete sense  trumptroll  bye ': 1,\n",
       "         'several reaction laughed hard people turning looking  acknowledged heard something ': 1,\n",
       "         'longer feel doomed falling abyss way': 1,\n",
       "         'feel bit low': 1,\n",
       "         'pudge great': 1,\n",
       "         'ca n t bothered working tomorrow ': 1,\n",
       "         'jbrigante haha  m drink 2 cheat day': 1,\n",
       "         'feel guilty sitting concert working hard': 1,\n",
       "         'uh oh yiff': 1,\n",
       "         'lol even got called transphobic  love allowed dislike mother ': 1,\n",
       "         'name hard time moving  name need cash ad trade deadline value going season ': 1,\n",
       "         'christmas  january 4th  lol': 1,\n",
       "         'actually thoroughly thought  thanks comment  evidently ': 1,\n",
       "         'waiting landlord come see shower': 1,\n",
       "         'keep feeling weird sensations img src http': 1,\n",
       "         'shut 15 year old': 1,\n",
       "         'back seventies eighties big deal ': 1,\n",
       "         'goodmorning world ': 1,\n",
       "         'respectful professional n t cheap shot multiple training partners ending one s fighting career ': 1,\n",
       "         'feeling little weather today got funny tummy however sun shining m home  yay ': 1,\n",
       "         'however want know something someone causing feel less splendid self step away': 1,\n",
       "         'think talking lawyer finishing feel anxious': 1,\n",
       "         'find normal chat chinese sometimes effect ': 1,\n",
       "         'wrecktify lol ok got ta get folks microsoft live360 wa hire ': 1,\n",
       "         'wow im opposite  year 2 apart ': 1,\n",
       "         'wish knew puts  stole heart never gave back  occasionally likes like look ': 1,\n",
       "         'willnoon believe address 300 ottawa ave nw grand rapids mi calder plaza wish could ve seen guys last night today': 1,\n",
       "         'im still waiting new fairy lights delivered couldnt wait get tree make house feel little festive': 1,\n",
       "         'want know feelings never felt ever experience gentle touch': 1,\n",
       "         'pd would probably get us name would get pump faked realize got wrong one  exhibit name': 1,\n",
       "         'done photo album im good person make quite private  pity ben haha': 1,\n",
       "         'deabarnes  ': 1,\n",
       "         'im lonely werkin': 1,\n",
       "         'feel insecure around people marvel people humble': 1,\n",
       "         'simply amazing ': 1,\n",
       "         'feel angry selfish giving absolutely nothing go': 1,\n",
       "         'sergio mg03 idkkkk n t planned anything  work lol': 1,\n",
       "         's g e r time unless get berate women minorities ': 1,\n",
       "         'great hear  scary hours ': 1,\n",
       "         'thank  appreciate advice agree said therapy ll keep trying ': 1,\n",
       "         'feel hopeless bored': 1,\n",
       "         'never part follow fridays': 1,\n",
       "         'nothing  sitting  see mrs p husband': 1,\n",
       "         'make sure feel comfortable assured someone willing listen support things deem significant': 1,\n",
       "         'mathewsanders floor mopping sounds unappealing': 1,\n",
       "         'exact  typically job people mad people steal rather ': 1,\n",
       "         'thanks  sometimes need article order shake sense someone ': 1,\n",
       "         'apart flashy plating s probably famous dutch restaurant 3 michelin stars  hope n t serve mediocre food': 1,\n",
       "         's great essay name regarding skripal farce ve run across': 1,\n",
       "         'nobody uses okcupid anymore  go bar pick someone': 1,\n",
       "         'would zero wait see coverage march life ': 1,\n",
       "         'princess4lyfe hear  ca n t think layout either  lol ve trying dont know long ': 1,\n",
       "         'congrats  steady job one actually enjoy somewhat 1 thing helped depression anxiety ': 1,\n",
       "         'n t think fantasy draft thing years career mode ': 1,\n",
       "         'misread  dude ': 1,\n",
       "         '105 strikeouts 81 2 3 innings  s good lol name': 1,\n",
       "         'dinaroberts thanks': 1,\n",
       "         'n t mean sound racist mean name article': 1,\n",
       "         'actually re name n t exterminating wrong inherently evil guilty race ': 1,\n",
       "         'library friggin bored ': 1,\n",
       "         'mean feeling pretty good ask trouble know mean': 1,\n",
       "         'first held scotty knew love high priced bundle joy couldnt help feeling apprehensive time come holds': 1,\n",
       "         'soon said ni ipad tonight like girl fresh hell tonight gon na bring ': 1,\n",
       "         'two loads moving crew s done  started 7am m done day  bad ac n t work new place oh life ': 1,\n",
       "         'm really getting sick ugh fuckin nursing homes  laying bed might go run later watch movies austin  sara amp sami left': 1,\n",
       "         'name pulls publicity drama stunt mild success  ftfy': 1,\n",
       "         'sat room listening everyone outside beach feel inspired': 1,\n",
       "         'n t care idiots think ': 1,\n",
       "         'say king s left welshpool small escort ahead army volunteered boy yard front turning excited f': 1,\n",
       "         'wer u wen sec kill': 1,\n",
       "         'miss doggy hammy turtle amp amp fishes': 1,\n",
       "         'feeling little bit nostalgic': 1,\n",
       "         'evo': 1,\n",
       "         'm mostly impressed get work west seattle 20 minutes car ': 1,\n",
       "         'already sucks  let nerf ': 1,\n",
       "         'go  mcdonalds': 1,\n",
       "         'waledc philly n t played yet    something   please': 1,\n",
       "         's  said  said hoped would tell  name ': 1,\n",
       "         'daughter says wants take weight put body mom go outside play': 1,\n",
       "         'get badly injured room full foam ': 1,\n",
       "         '4 free twitter tools get followers http shortto 511q http jijrcom hulz http shortto 511r http 2veorg xpg0': 1,\n",
       "         'many name killed hoi  name damn love exchange rate ': 1,\n",
       "         'peterpolaco m guessing belt thing no go since n t hear back  sorry stop weekend ll talk bout ring etc ': 1,\n",
       "         'happy mother s moms ': 1,\n",
       "         'name name  name podcast great ': 1,\n",
       "         'love contract structure especially since name 31 ': 1,\n",
       "         'course rains five minutes finish watering flowers  took half hour water ': 1,\n",
       "         'capn mactastic dunno p d end waking 2  s mysterious world': 1,\n",
       "         'ahewitt': 1,\n",
       "         'yeah made clear friends available instantly lol': 1,\n",
       "         'sign 45aav contract already proved elite starter nhl ': 1,\n",
       "         'feel absolutely stumped floor dance charming gentle specially continental feeling purely mental heaven rest us asbestos dance': 1,\n",
       "         'bad endorses seiko wouldve great ad': 1,\n",
       "         'surprised 3rd world slum people treat differently abled people': 1,\n",
       "         'german accents sexy ': 1,\n",
       "         'thesaurus threw comment': 1,\n",
       "         'feel bit like mircowaved wasnt entirely pleasant feeling': 1,\n",
       "         'downshifting manual accelerate quicker': 1,\n",
       "         'already crazy morning 1030': 1,\n",
       "         'johnlauber realtyman one told mutual admiration society meeting morning  lol hi boys ': 1,\n",
       "         'made mistake choosing name  m literaly unable change characters tekken rest life ': 1,\n",
       "         'thanks info gon na risk ban ': 1,\n",
       "         'scaree hope today flows lots nice things happen work come home happy': 1,\n",
       "         'still feel devastated': 1,\n",
       "         'ive feeling briar beagle would give one disgusted looks even tried exercising souless surroundings': 1,\n",
       "         'hunch first last wedding bar seen': 1,\n",
       "         'charlotte made reply suddenly felt exasperated wearied hoops obliged jump thro': 1,\n",
       "         'feel terribly burdened deal results lol': 1,\n",
       "         'api completely ': 1,\n",
       "         'daveg38 yeah work today never mind one day sun sun sun ': 1,\n",
       "         'narendranag expensive windows linux': 1,\n",
       "         'one reasons im straight': 1,\n",
       "         'sad seeing basshunter metroplex weekend': 1,\n",
       "         'still n t internet home fuck': 1,\n",
       "         're talented op  like sense humor  hurts cuz real': 1,\n",
       "         'undented password san diego show  mine working': 1,\n",
       "         'lay still awake find feeling unhappy': 1,\n",
       "         'feel bitchy hurting': 1,\n",
       "         'oh name forgot site good reason': 1,\n",
       "         'skilletfan01 make sure looking right game summary ': 1,\n",
       "         'oof thanks': 1,\n",
       "         'feel jolly': 1,\n",
       "         'men lol': 1,\n",
       "         'mattg124 didgeridoo    ': 1,\n",
       "         'maybe one day ll able afford one continue edgy teenager whining war drugs ': 1,\n",
       "         'writing sharing much story believe heart world needs know riches god feeling angry towards trying bash people leaders parents': 1,\n",
       "         'wow excellent shot': 1,\n",
       "         'think s reference fucking mad watching name makes people feel  ie shit name playing furies ': 1,\n",
       "         'im feeling little bit embarrassed serious lapse blogging ive extremely busy past months trying finish new work time toronto outdoor show well number exhibitions': 1,\n",
       "         'mari possa happy happy bday baby girl  love ya     hope get everything want': 1,\n",
       "         'gained 3lbs wish could afford something top ramen  job ': 1,\n",
       "         'thinks gon na rain': 1,\n",
       "         'legit  legit quit  legit  un legit  therefore must quit ': 1,\n",
       "         '1 horse town 2 blown car speakers': 1,\n",
       "         'thanks video  needed': 1,\n",
       "         'princesspdexter ohhh regal man cat  blocked': 1,\n",
       "         'hey tweeps  good morning  wussup america  talk tell wut s ur mind ': 1,\n",
       "         'hey singapore luck ': 1,\n",
       "         'happy mothers day u milfs ': 1,\n",
       "         'hallelujah  ve finally finished careers assignment  feeling finishing task great idea  maybe  lol': 1,\n",
       "         'yvettecyl awwww sweet ': 1,\n",
       "         'rack yeeeeee gon na live bet shit second half 3k let goooo': 1,\n",
       "         'ipod died running charged ': 1,\n",
       "         'never forgive never forget one': 1,\n",
       "         've thrown spoons bin  ll learn eat yoghurt fork ': 1,\n",
       "         'feel talented anything eventually putting fully': 1,\n",
       "         'spootychild omfg downing tasty  ate almost lo': 1,\n",
       "         'agree n t necessarily means take 3 first 3 rounds  really depends players available ': 1,\n",
       "         'admire athleticism feel like would entertained got watch severely shape people participate olympic events': 1,\n",
       "         'feel defeated low': 1,\n",
       "         'rosellyanna lol know haha  fall asleep   get bored shaun p joke': 1,\n",
       "         'xabierr im sure jont wont mind sharing': 1,\n",
       "         'thanks suggestion ': 1,\n",
       "         'last day high school ': 1,\n",
       "         'would say yet would feel superior fact self righteous even would admit back remember looking point see point come could face protect ego': 1,\n",
       "         'everyone think hes laugh screwing people instead actually dead': 1,\n",
       "         'friday last much fun skint though': 1,\n",
       "         'going sleep  big beach day tommorow  love guys  nite ': 1,\n",
       "         'know blamed neighbor defended themself ': 1,\n",
       "         'wanted give quick welcome thanks follow following looking frward tweeting w': 1,\n",
       "         'eyeficard boo  thought list meant would good go looks like ll get cf adapter dslr ': 1,\n",
       "         'sounds possible except key ca n t see missed first search ': 1,\n",
       "         'acute services acute services  sucks s doctor s fault ': 1,\n",
       "         'ive gotten used hearing david time havent heard lot tonight stayed last night result im feeling little paranoid': 1,\n",
       "         'sanjana 58 also like aasman ke paar shaayad': 1,\n",
       "         'm miserable eat': 1,\n",
       "         'awkward moment someone already used shell pun earlier': 1,\n",
       "         'really vanilla ice scum rip name name': 1,\n",
       "         'finally going bed  woo hoo  got ta work 5am  lots love ': 1,\n",
       "         'reluctant hey feeling lousy nothing lose': 1,\n",
       "         'couldnt help feeling little envious treats body power people might store demonstrations super strength perfect specimens glistening accentuating oil exercise gear seen': 1,\n",
       "         'wish could go bea weekend ': 1,\n",
       "         'feeling little like cold coming': 1,\n",
       "         'ugh hate photobucket  amazing place edit pictures wwwpicnikcom use alll time ': 1,\n",
       "         'yeah looks pretty cute pic tbh': 1,\n",
       "         'side story would heard already ': 1,\n",
       "         'nuts hurt watching second part': 1,\n",
       "         'miss daddy much ': 1,\n",
       "         'oh wait s tonight     totally watching': 1,\n",
       "         'keytaj yeah  passed last week  sad ': 1,\n",
       "         'great nb rimiru': 1,\n",
       "         'actually sad feel bad': 1,\n",
       "         'making egg tart amp chinese egg pudding  yum': 1,\n",
       "         'thanks hug matey': 1,\n",
       "         'filming carnival music video  reminds cherry festival used go back home  ahhh memories ': 1,\n",
       "         's longest dimple ve ever seen': 1,\n",
       "         'indiepixie omg roach room first time ever apartment today  hope n t patricia luck next': 1,\n",
       "         'lie fucking watching office paused know listening graduation browsing subreddit': 1,\n",
       "         'feel apprehensive opening blue door': 1,\n",
       "         'tbh giant cereal bowl bath least cursed gets   loved episode': 1,\n",
       "         'one liner movie reviews http bitly 18zd0k add ': 1,\n",
       "         'n t mass shooting  thinking another college massacre ': 1,\n",
       "         'many things missed tweeting': 1,\n",
       "         'lacietee wish going cuz miss ': 1,\n",
       "         '57 days till 18th b day': 1,\n",
       "         'say making feel tender inside like wound scabbed surface still raw unhealed underneath': 1,\n",
       "         'kinda let tbh': 1,\n",
       "         'n t kiss doorbell  anyone else s matter ': 1,\n",
       "         '1080ti i7 8700k fast 40k bitrate m already hitting 50 cpu usage obs alone suggestions ': 1,\n",
       "         'cubs fans died 95 without ever seen favorite team win title  point loilty worth ': 1,\n",
       "         'deleted scene flirts woman  waaaaay much representation already ': 1,\n",
       "         'name okay ': 1,\n",
       "         'feel insecure way examine boyfriends exempted': 1,\n",
       "         'face screams fucking gods everything around ': 1,\n",
       "         'bro est thing ive seen week': 1,\n",
       "         'ugh im tired hardly anything play niece im goin bed goodnight eveyone  lt 3': 1,\n",
       "         'rosa  rosa  rooosaa yeah  beautiful rosaa': 1,\n",
       "         'feel pleasant staying away former': 1,\n",
       "         'mets fans gets excited name hear name theme ': 1,\n",
       "         'due work got ta stay legal  edibles legal yet sadly  fortunately taking cancer though pain ': 1,\n",
       "         'u try  maybe say u busy thursday friday still open  mean u waiting forever right ': 1,\n",
       "         'yeah tis marketing tweet melbourne aflw team captain seems like marketing pushed throat  woke af ': 1,\n",
       "         'savagemike yep like animals better humans ': 1,\n",
       "         'feel think respected': 1,\n",
       "         'serious creep vibe put wedding dress ': 1,\n",
       "         'sleepy earlier didnt get see matt': 1,\n",
       "         'well started second quarter games  would come ahead ': 1,\n",
       "         'good  proud ': 1,\n",
       "         'details building fantastic  anyone gets chance see close definitely ': 1,\n",
       "         'actually idiot  proven fact biased stereotype  definitely derogatory ': 1,\n",
       "         'long af  s like 20 seconds reading ': 1,\n",
       "         'finally upgraded spotify premium exceeded threshold awesomeness time ago  s iphone app amp remote spotify ': 1,\n",
       "         'hot wings cafe willyum mild spicy bbq curly fries  delicious   http twitpiccom 4wesr': 1,\n",
       "         'lovelylu nice  cleared head': 1,\n",
       "         'keza34 hi babe': 1,\n",
       "         'kris brown holding onto one http twitpiccom 4w5eh': 1,\n",
       "         'guy basically referee parliament right like  rest thats questionable': 1,\n",
       "         'im fully feeling emotional level': 1,\n",
       "         'ah  ca n t see replying inbox n t see name first time checked read comments': 1,\n",
       "         'used fantasize morning oatmeal  one packet instant oatmeal  name dreamed ': 1,\n",
       "         'character yuck thank confirming suspicions who what ': 1,\n",
       "         'sounds like trying find fault make feel better leaving ': 1,\n",
       "         'missing something  wo n t repealed ': 1,\n",
       "         'oh whoever didnt pick becomes mastermind': 1,\n",
       "         'feel sexually threatened guys assholes fuck course im going bitch whatever need get ass situation': 1,\n",
       "         'focus either infantry company im feeling either brave stupid enough motorbike company rest challenge ill leave time see feel': 1,\n",
       "         'miffed european parliament head president jose maria gil robles visiting paris promptly canceled scheduled stop de charette s office pending apo': 1,\n",
       "         'incredibly cliched point may fourth today ': 1,\n",
       "         'name really held back': 1,\n",
       "         'simplysinister sucks seriously hope feel better soon need come next week   ': 1,\n",
       "         'get angled face brush eco tools blush brush lightly sweep muas pressed powder hollows cheeks temples im feeling brave maybe little nose chin': 1,\n",
       "         'anncurry photos lovely  knew talented photographer journalist ': 1,\n",
       "         'chance blew suffer consequences  gnite tweeps': 1,\n",
       "         'stay right': 1,\n",
       "         'feel useful valued fundamental': 1,\n",
       "         'maybe n t pick something quite obscure  girl': 1,\n",
       "         'sounds fancy flight entertainment ': 1,\n",
       "         'feeling need creative': 1,\n",
       "         'go offical league forum look people ': 1,\n",
       "         'mareyachristina haha shaved facial hair except moustache cause thought would cool  made look gross': 1,\n",
       "         'actually felt ballsack jump bit face planted': 1,\n",
       "         'n t north south dakota one state point  putting aside re difference getting back together ': 1,\n",
       "         'c64takeaway great remix  double wow ': 1,\n",
       "         'feelings change like weather': 1,\n",
       "         're moving utah california later year  statistics make even excited  ': 1,\n",
       "         'may wrong far truth ': 1,\n",
       "         'm generally supporter law enforcement  actual fuck ': 1,\n",
       "         'wake feeling dazed deep slumber convoluted sometimes exhausting dreams bit like href http skdd': 1,\n",
       "         's gon na dawg': 1,\n",
       "         'feel much lighter clearer energetic': 1,\n",
       "         'n t bunch republican puppets like believe ': 1,\n",
       "         'never feel like actually dangerous sirens drown pogues reggae three times hour': 1,\n",
       "         'sure d love': 1,\n",
       "         'pixel art yak cute tho ': 1,\n",
       "         'try group called companions website people care great deal ': 1,\n",
       "         'comments major diplomatic gaffe crc supported region disquiet cre s decision begin investigati': 1,\n",
       "         'daveredfly great thanks looking client maybe use gon na try': 1,\n",
       "         'angle face looks like big built guy jersey shore ': 1,\n",
       "         'wait go ': 1,\n",
       "         'ciaee yessir yessir three cheeks full ': 1,\n",
       "         'tommcfly guys heard flu s going around  swine flu  hope guys safe ve deaths already  s': 1,\n",
       "         'kcomer yeah amp goes wrong s worst feeling ever': 1,\n",
       "         'simonusher fancy sunday lunch albion game ': 1,\n",
       "         'surely s factor  s sufficient  name good life went jihadi ': 1,\n",
       "         'uhh mean name name  sweet together  s': 1,\n",
       "         'flowerdust m bummed  re gon na 30 minutes sunday amp ca n t come hear ya ': 1,\n",
       "         'millennial  motorcycles none harleys  like overpriced unreliable bad performing vehicles ': 1,\n",
       "         've come chew bubblegum kick ass ': 1,\n",
       "         'feel write truly innocent even though quite bit feeling involved': 1,\n",
       "         'happy mothers day mom s  ': 1,\n",
       "         'sit rv dinette driveway look big back window feel amazing': 1,\n",
       "         'feeling resentful id given boring assignment': 1,\n",
       "         'watched prison break special sad ending': 1,\n",
       "         'tristyb thanks could n t find way around itunes though found little app called switch job nicely': 1,\n",
       "         'feel weird seldom people eat': 1,\n",
       "         ' cheers starting fresh ': 1,\n",
       "         'literally finished watching second episode daredevil  pains': 1,\n",
       "         'hope enjoy  try leave long though s taken ': 1,\n",
       "         'drawing picture bubba': 1,\n",
       "         'yeah think s near beaches something n t really go area': 1,\n",
       "         'girl slowly getting different name music always make point play track  love': 1,\n",
       "         'birthday girl  blessed live another year amp celebrate loved ones': 1,\n",
       "         'hmm buysellads following think declined thehodgecouk inclusion network': 1,\n",
       "         'wonder shit ': 1,\n",
       "         'got damn look body': 1,\n",
       "         'jacehall http twitpiccom 4nbx4 great photo  bravi  looking forward upcoming pilot italy': 1,\n",
       "         'oh yeah radio1 playing earth wind fire': 1,\n",
       "         'way somebody please translate notes doc form something  trouble viewing': 1,\n",
       "         'ha  thanks ': 1,\n",
       "         'pameladetlor aw honey  relaxin  s probably best ': 1,\n",
       "         'oh fuck  ve returned supermarket doom find nothing drink ': 1,\n",
       "         'andrewho would u get trouble follow logic sorry': 1,\n",
       "         'great song stuck head next 2 weeks ': 1,\n",
       "         'feeling david going turn terrific father hes already exposing newborn son world geek': 1,\n",
       "         'freedom expression right law ': 1,\n",
       "         'caitlingrant thanks     like said facebook made awesomely happy  thanks ': 1,\n",
       "         'fashion wont age better  thats cycle things ': 1,\n",
       "         'name stated s open decriminalization  s legislature point ': 1,\n",
       "         'love op loved insult  like ultimate slap face cb ': 1,\n",
       "         'put case mancs got annoyed know re like get mad': 1,\n",
       "         'finally home night dinner drinking friends  going sleep hoping bed n t spin much ': 1,\n",
       "         'never ever point return  please give time  whole world ': 1,\n",
       "         'thing preparing 5 sermons one week think done  prepare powerpoint slides': 1,\n",
       "         'makes sense  hell trying achieve  sound like dumho': 1,\n",
       "         'feel man s feelings m crying': 1,\n",
       "         'art degrees useless  excuse go watch pixar movie  s': 1,\n",
       "         'anyone successful sending bitcoin another wallet ': 1,\n",
       "         'allowed feel guilty neglecting work due part want': 1,\n",
       "         'im supposed feel compassionate towards little girl feel like never existed': 1,\n",
       "         'happy mother s day euch allen': 1,\n",
       "         'miss seeing us desperate intense energy  maybe next game': 1,\n",
       "         'yoshitori yeaup  gon na tell ya': 1,\n",
       "         'know people say power naps good time kinda always miss alarm': 1,\n",
       "         'using facebook barometer success  look facebook highlight reel people actually living': 1,\n",
       "         'lol goes suddenly screams vagina bees bees ': 1,\n",
       "         'realbillbailey good moring mr bailey birthday today': 1,\n",
       "         'thanks much following keep date much possible makeup line plus new collections': 1,\n",
       "         'iantalbot indeed lovely evening  far quickly got home 1115 end  coffee bed morning': 1,\n",
       "         'lmaooo re right mean name haha lol': 1,\n",
       "         'hutty name   ahhh makes happy  love boys e oh rebound': 1,\n",
       "         'continue would first like ask believe net neutrality know re operating similar definitions ': 1,\n",
       "         'real power move write nice day even lose ': 1,\n",
       "         'laugh way game went actually expected lay  reality name hit  thanks goodness': 1,\n",
       "         'feel pleased resist till get next four night shifts': 1,\n",
       "         'feel like beloved': 1,\n",
       "         'practice beast today  going see julian tonight': 1,\n",
       "         'great movie almost timeless': 1,\n",
       "         's like ve never even around dogs ': 1,\n",
       "         'aw wee lassie made cry tears streamin doon face lol thats wee shame x': 1,\n",
       "         'bill compton wii ca n t twitter ': 1,\n",
       "         'lollipop26 love watching yt videos really looking forward seeing collection vid': 1,\n",
       "         'u l w e l': 1,\n",
       "         'http twitpiccom 4wh0o mommys gummy mothers day posterrr ': 1,\n",
       "         'dont mind long line theres super cutie front  bad s wearing gay bracelet girls name': 1,\n",
       "         'claudia frowning turned gaze total puzz': 1,\n",
       "         'last saw already im feeling agitated': 1,\n",
       "         'hope name makes full recovery ': 1,\n",
       "         'hoezay x3 trueee': 1,\n",
       "         'lost count sorry let u ': 1,\n",
       "         'yeah love ': 1,\n",
       "         'want people feeling delighted shock saw': 1,\n",
       "         'incredibill actually web works fine  tweetdeck keeps crashing m nj today avoiding nascar': 1,\n",
       "         'ups downs  time stand name name': 1,\n",
       "         'upset feeling weepy mom wanted drink mainstream caffeinated tea thought would help feel calmer relaxed': 1,\n",
       "         'happiness comes within  fact gray rainy monday n t bother  well much ': 1,\n",
       "         'believe black personality explain feel  boyfrann mines gots sprung': 1,\n",
       "         'yourself onfire think letitia still trying upload digital problems  sure let us know': 1,\n",
       "         'sarah mcglaclan song background please donate jpnnbak fund quot dinero cable bill quot think make': 1,\n",
       "         'jmarie7481 http twitpiccom 4vvou ok  love   melika come make up like next time go': 1,\n",
       "         'fair enough  m probably thinking someone still semblance shame ': 1,\n",
       "         'even gotten sex women fellow comics nerds also hated movies done name stories ': 1,\n",
       "         'love taylor swift many inspiring song song always represent feel damn gorgeous nice fans': 1,\n",
       "         's best part ca n t even imagine live forever shitty body': 1,\n",
       "         'icharlotte original non yahoo acc  deleted got bought out s bad n t receive yahoo spam ': 1,\n",
       "         'prequels son could n t save mother  maybe things different time ': 1,\n",
       "         'professional development favorite way spend beautiful monday afternoon  ': 1,\n",
       "         'good morning   s 12 00 think s time breakfast  ': 1,\n",
       "         'hope dallas gets close loses heartbreak ': 1,\n",
       "         'hospital today shopping mom love much ': 1,\n",
       "         'ive coughing past days stomach muscles definitely feeling rather tender sore throat new development runny nose': 1,\n",
       "         'going say tigres reread title said big': 1,\n",
       "         'want burrito still 30 minutes work': 1,\n",
       "         'name 8 mins name 30 disagree ': 1,\n",
       "         'thank received help already ': 1,\n",
       "         'portman65 amazing time ': 1,\n",
       "         'im sure feeling slightly wronged police sheriff tsa always bad thing': 1,\n",
       "         'kurliedoc poor grace    need date cute male nurse ': 1,\n",
       "         'know answer man programmed capture codes send avoid ': 1,\n",
       "         'would leave long time  cooperate decides come  maybe s ': 1,\n",
       "         'kristenkey true  poetic  beautiful': 1,\n",
       "         'eliasharrak ummm come twins slurpees car twins going pretty epic   ': 1,\n",
       "         'withloverianeee hav bet get 6 pack 35 days  im day 3  sux': 1,\n",
       "         'feel like less faithful less worthy less loving less able': 1,\n",
       "         'umm  everyday since 13 fine  could ': 1,\n",
       "         'annnnnnddd another one bites dust': 1,\n",
       "         'know personal experience end good relationship ': 1,\n",
       "         'couldnt help laugh loud  pure stupidity coming mother  way put': 1,\n",
       "         'yeah bungle given scummy restaurant brands known ': 1,\n",
       "         'leaving dont miss much tweetbeaks lt 3': 1,\n",
       "         'feel wrongly punished misbehavior unavoidable allowed argue whether punished severely': 1,\n",
       "         'late party young boys talking stabbing women vagina would still okay ': 1,\n",
       "         'well planters pull  step step ': 1,\n",
       "         'dislocated knee bad painful times gas air morphine fun though': 1,\n",
       "         'feel really violent right': 1,\n",
       "         'lmao love love speaking nonsense well': 1,\n",
       "         'hurr durr everyone needs worry people problems': 1,\n",
       "         'pls shut': 1,\n",
       "         'b plug  hell  use plug re never going become doctor day ': 1,\n",
       "         'currently working sdp s prototype  much ': 1,\n",
       "         'imagine end might feel like fully loving': 1,\n",
       "         'post history d say looks like highly inept karma farm bot account  edit op real  yay  upvoting ': 1,\n",
       "         'happy mother s daaaaaaaaay': 1,\n",
       "         'wow love headache medicine house ': 1,\n",
       "         'amj89 twitter brings back everyone button access pt http twittercom public timeline link bottom settings ': 1,\n",
       "         'actress died season 1 aired literally impossible since name betray season 2': 1,\n",
       "         'even hide racism anymore throwing dog whistles trash ': 1,\n",
       "         'really need skateboard ': 1,\n",
       "         'ca n t spell melo without e  lt 3 favorite blogging site ': 1,\n",
       "         'feel pretty body email usually contains oh pretty': 1,\n",
       "         ...})"
      ]
     },
     "execution_count": 7,
     "metadata": {},
     "output_type": "execute_result"
    }
   ],
   "source": [
    "word_to_counts = Counter(x_train)\n",
    "word_to_counts"
   ]
  },
  {
   "cell_type": "code",
   "execution_count": 8,
   "id": "72ce7527",
   "metadata": {},
   "outputs": [
    {
     "data": {
      "text/plain": [
       "95420"
      ]
     },
     "execution_count": 8,
     "metadata": {},
     "output_type": "execute_result"
    }
   ],
   "source": [
    "# Get the number of unique words in the text data\n",
    "n_words = len(word_to_counts)\n",
    "n_words"
   ]
  },
  {
   "cell_type": "code",
   "execution_count": 9,
   "id": "36a35b63",
   "metadata": {},
   "outputs": [],
   "source": [
    "#create a word-to-index dictionary\n",
    "tokenizer = Tokenizer(num_words=n_words, oov_token=\"<OOV>\")\n",
    "tokenizer.fit_on_texts(x_train)\n",
    "word_index = tokenizer.word_index\n",
    "\n",
    "#convert the text data to numerical data\n",
    "x_train_seq = tokenizer.texts_to_sequences(x_train)\n",
    "x_val_seq = tokenizer.texts_to_sequences(x_val)\n",
    "x_test_seq = tokenizer.texts_to_sequences(x_test)"
   ]
  },
  {
   "cell_type": "code",
   "execution_count": 11,
   "id": "984626f5",
   "metadata": {},
   "outputs": [
    {
     "data": {
      "text/plain": [
       "(96357, 140)"
      ]
     },
     "execution_count": 11,
     "metadata": {},
     "output_type": "execute_result"
    }
   ],
   "source": [
    "#Pad the sequences to have the same length\n",
    "max_length = max([len(s) for s in x_train_seq + x_val_seq + x_test_seq])\n",
    "x_train_pad = pad_sequences(x_train_seq, maxlen=max_length)\n",
    "x_val_pad = pad_sequences(x_val_seq, maxlen=max_length)\n",
    "x_test_pad = pad_sequences(x_test_seq, maxlen=max_length)\n",
    "x_train_pad.shape"
   ]
  },
  {
   "cell_type": "code",
   "execution_count": 12,
   "id": "1403542d",
   "metadata": {},
   "outputs": [
    {
     "data": {
      "text/plain": [
       "4"
      ]
     },
     "execution_count": 12,
     "metadata": {},
     "output_type": "execute_result"
    }
   ],
   "source": [
    "#Define the number of unique classes\n",
    "n_classes = len(np.unique(y_train))\n",
    "n_classes"
   ]
  },
  {
   "cell_type": "code",
   "execution_count": 13,
   "id": "43639aed",
   "metadata": {},
   "outputs": [
    {
     "data": {
      "text/plain": [
       "(96357, 4)"
      ]
     },
     "execution_count": 13,
     "metadata": {},
     "output_type": "execute_result"
    }
   ],
   "source": [
    "# Convert the class labels to one-hot encoded vectors\n",
    "y_train_enc = tf.keras.utils.to_categorical(y_train, n_classes)\n",
    "y_val_enc = tf.keras.utils.to_categorical(y_val, n_classes)\n",
    "y_test_enc = tf.keras.utils.to_categorical(y_test, n_classes)\n",
    "y_train_enc.shape"
   ]
  },
  {
   "cell_type": "markdown",
   "id": "db8b46bb",
   "metadata": {},
   "source": [
    "LSTM without pre-trained embeddings\n",
    "\n"
   ]
  },
  {
   "cell_type": "code",
   "execution_count": 14,
   "id": "356422b0",
   "metadata": {},
   "outputs": [
    {
     "name": "stderr",
     "output_type": "stream",
     "text": [
      "2024-01-18 13:44:32.480759: I metal_plugin/src/device/metal_device.cc:1154] Metal device set to: Apple M1\n",
      "2024-01-18 13:44:32.480802: I metal_plugin/src/device/metal_device.cc:296] systemMemory: 16.00 GB\n",
      "2024-01-18 13:44:32.480810: I metal_plugin/src/device/metal_device.cc:313] maxCacheSize: 5.33 GB\n",
      "2024-01-18 13:44:32.481319: I tensorflow/core/common_runtime/pluggable_device/pluggable_device_factory.cc:303] Could not identify NUMA node of platform GPU ID 0, defaulting to 0. Your kernel may not have been built with NUMA support.\n",
      "2024-01-18 13:44:32.481776: I tensorflow/core/common_runtime/pluggable_device/pluggable_device_factory.cc:269] Created TensorFlow device (/job:localhost/replica:0/task:0/device:GPU:0 with 0 MB memory) -> physical PluggableDevice (device: 0, name: METAL, pci bus id: <undefined>)\n"
     ]
    },
    {
     "name": "stdout",
     "output_type": "stream",
     "text": [
      "Model: \"sequential\"\n",
      "_________________________________________________________________\n",
      " Layer (type)                Output Shape              Param #   \n",
      "=================================================================\n",
      " embedding (Embedding)       (None, 140, 64)           6106880   \n",
      "                                                                 \n",
      " lstm (LSTM)                 (None, 64)                33024     \n",
      "                                                                 \n",
      " dropout (Dropout)           (None, 64)                0         \n",
      "                                                                 \n",
      " dense (Dense)               (None, 4)                 260       \n",
      "                                                                 \n",
      "=================================================================\n",
      "Total params: 6140164 (23.42 MB)\n",
      "Trainable params: 6140164 (23.42 MB)\n",
      "Non-trainable params: 0 (0.00 Byte)\n",
      "_________________________________________________________________\n"
     ]
    }
   ],
   "source": [
    "# Define the LSTM model\n",
    "model_01 = Sequential()\n",
    "model_01.add(Embedding(input_dim=n_words, output_dim=64, input_length=max_length))\n",
    "model_01.add(LSTM(64))\n",
    "model_01.add(Dropout(0.5))\n",
    "model_01.add(Dense(n_classes, activation='softmax'))\n",
    "model_01.summary()"
   ]
  },
  {
   "cell_type": "code",
   "execution_count": 16,
   "id": "e59156f6",
   "metadata": {},
   "outputs": [
    {
     "name": "stdout",
     "output_type": "stream",
     "text": [
      "Epoch 1/20\n"
     ]
    },
    {
     "name": "stderr",
     "output_type": "stream",
     "text": [
      "2024-01-18 14:10:17.140908: I tensorflow/core/grappler/optimizers/custom_graph_optimizer_registry.cc:114] Plugin optimizer for device_type GPU is enabled.\n",
      "2024-01-18 14:10:17.245949: I tensorflow/core/grappler/optimizers/custom_graph_optimizer_registry.cc:114] Plugin optimizer for device_type GPU is enabled.\n"
     ]
    },
    {
     "name": "stdout",
     "output_type": "stream",
     "text": [
      "   1/3012 [..............................] - ETA: 37:02 - loss: 0.0617 - accuracy: 0.9688"
     ]
    },
    {
     "name": "stderr",
     "output_type": "stream",
     "text": [
      "2024-01-18 14:10:17.346334: I tensorflow/core/grappler/optimizers/custom_graph_optimizer_registry.cc:114] Plugin optimizer for device_type GPU is enabled.\n"
     ]
    },
    {
     "name": "stdout",
     "output_type": "stream",
     "text": [
      "3012/3012 [==============================] - ETA: 0s - loss: 0.1685 - accuracy: 0.9358"
     ]
    },
    {
     "name": "stderr",
     "output_type": "stream",
     "text": [
      "2024-01-18 14:12:22.334655: I tensorflow/core/grappler/optimizers/custom_graph_optimizer_registry.cc:114] Plugin optimizer for device_type GPU is enabled.\n",
      "2024-01-18 14:12:22.378957: I tensorflow/core/grappler/optimizers/custom_graph_optimizer_registry.cc:114] Plugin optimizer for device_type GPU is enabled.\n"
     ]
    },
    {
     "name": "stdout",
     "output_type": "stream",
     "text": [
      "3012/3012 [==============================] - 130s 43ms/step - loss: 0.1685 - accuracy: 0.9358 - val_loss: 2.2044 - val_accuracy: 0.5654\n",
      "Epoch 2/20\n",
      "3012/3012 [==============================] - 126s 42ms/step - loss: 0.1429 - accuracy: 0.9458 - val_loss: 2.4428 - val_accuracy: 0.5562\n",
      "Epoch 3/20\n",
      "3012/3012 [==============================] - 127s 42ms/step - loss: 0.1303 - accuracy: 0.9505 - val_loss: 2.4734 - val_accuracy: 0.5584\n",
      "Epoch 4/20\n",
      "3012/3012 [==============================] - 129s 43ms/step - loss: 0.1181 - accuracy: 0.9555 - val_loss: 2.6914 - val_accuracy: 0.5530\n",
      "Epoch 5/20\n",
      "3012/3012 [==============================] - 128s 43ms/step - loss: 0.1072 - accuracy: 0.9593 - val_loss: 2.9006 - val_accuracy: 0.5541\n",
      "Epoch 6/20\n",
      "3012/3012 [==============================] - 129s 43ms/step - loss: 0.0998 - accuracy: 0.9620 - val_loss: 2.8295 - val_accuracy: 0.5501\n",
      "Epoch 7/20\n",
      "3012/3012 [==============================] - 131s 43ms/step - loss: 0.0926 - accuracy: 0.9656 - val_loss: 2.9542 - val_accuracy: 0.5491\n",
      "Epoch 8/20\n",
      "3012/3012 [==============================] - 128s 43ms/step - loss: 0.0849 - accuracy: 0.9681 - val_loss: 3.2003 - val_accuracy: 0.5467\n",
      "Epoch 9/20\n",
      "3012/3012 [==============================] - 135s 45ms/step - loss: 0.0791 - accuracy: 0.9703 - val_loss: 3.3323 - val_accuracy: 0.5431\n",
      "Epoch 10/20\n",
      "3012/3012 [==============================] - 132s 44ms/step - loss: 0.0748 - accuracy: 0.9718 - val_loss: 3.1749 - val_accuracy: 0.5489\n",
      "Epoch 11/20\n",
      "3012/3012 [==============================] - 128s 43ms/step - loss: 0.0701 - accuracy: 0.9739 - val_loss: 3.3874 - val_accuracy: 0.5442\n",
      "Epoch 12/20\n",
      "3012/3012 [==============================] - 126s 42ms/step - loss: 0.0665 - accuracy: 0.9757 - val_loss: 3.4582 - val_accuracy: 0.5491\n",
      "Epoch 13/20\n",
      "3012/3012 [==============================] - 127s 42ms/step - loss: 0.0615 - accuracy: 0.9770 - val_loss: 3.5855 - val_accuracy: 0.5437\n",
      "Epoch 14/20\n",
      "3012/3012 [==============================] - 127s 42ms/step - loss: 0.0617 - accuracy: 0.9772 - val_loss: 3.5245 - val_accuracy: 0.5441\n",
      "Epoch 15/20\n",
      "3012/3012 [==============================] - 126s 42ms/step - loss: 0.0584 - accuracy: 0.9789 - val_loss: 3.6462 - val_accuracy: 0.5408\n",
      "Epoch 16/20\n",
      "3012/3012 [==============================] - 129s 43ms/step - loss: 0.0541 - accuracy: 0.9801 - val_loss: 3.7694 - val_accuracy: 0.5368\n",
      "Epoch 17/20\n",
      "3012/3012 [==============================] - 126s 42ms/step - loss: 0.0521 - accuracy: 0.9806 - val_loss: 3.8130 - val_accuracy: 0.5413\n",
      "Epoch 18/20\n",
      "3012/3012 [==============================] - 126s 42ms/step - loss: 0.0498 - accuracy: 0.9815 - val_loss: 3.8536 - val_accuracy: 0.5349\n",
      "Epoch 19/20\n",
      "3012/3012 [==============================] - 128s 43ms/step - loss: 0.0485 - accuracy: 0.9822 - val_loss: 3.8629 - val_accuracy: 0.5342\n",
      "Epoch 20/20\n",
      "3012/3012 [==============================] - 133s 44ms/step - loss: 0.0444 - accuracy: 0.9835 - val_loss: 3.8773 - val_accuracy: 0.5366\n"
     ]
    }
   ],
   "source": [
    " # Compile and fit the model\n",
    "model_01.compile(optimizer='adam', loss='categorical_crossentropy', metrics=['accuracy'])\n",
    "history = model_01.fit(x_train_pad, y_train_enc, batch_size=32, epochs=20, validation_data=(x_val_pad, y_val_enc))"
   ]
  },
  {
   "cell_type": "code",
   "execution_count": 17,
   "id": "fe25df5f",
   "metadata": {},
   "outputs": [
    {
     "data": {
      "image/png": "[encoded data removed]",
      "text/plain": [
       "<Figure size 640x480 with 1 Axes>"
      ]
     },
     "metadata": {},
     "output_type": "display_data"
    }
   ],
   "source": [
    "%matplotlib inline\n",
    "import matplotlib.pyplot as plt\n",
    "\n",
    "# summarize history for loss\n",
    "plt.plot(history.history['loss'])\n",
    "plt.plot(history.history['val_loss'])\n",
    "plt.title('model loss')\n",
    "plt.ylabel('loss')\n",
    "plt.xlabel('epoch')\n",
    "plt.legend(['train', 'val'], loc='upper right')\n",
    "plt.show()"
   ]
  },
  {
   "cell_type": "code",
   "execution_count": 18,
   "id": "1f6f2fe6",
   "metadata": {},
   "outputs": [
    {
     "data": {
      "image/png": "[encoded data removed]",
      "text/plain": [
       "<Figure size 640x480 with 1 Axes>"
      ]
     },
     "metadata": {},
     "output_type": "display_data"
    }
   ],
   "source": [
    "# summarize history for accuracy\n",
    "plt.plot(history.history['accuracy'])\n",
    "plt.plot(history.history['val_accuracy'])\n",
    "plt.title('model accuracy')\n",
    "plt.ylabel('accuracy')\n",
    "plt.xlabel('epoch')\n",
    "plt.legend(['train', 'val'], loc='upper left')\n",
    "plt.show()"
   ]
  },
  {
   "cell_type": "code",
   "execution_count": 19,
   "id": "b4c6f5ca",
   "metadata": {},
   "outputs": [
    {
     "name": "stdout",
     "output_type": "stream",
     "text": [
      "372/372 [==============================] - 5s 14ms/step - loss: 3.9893 - accuracy: 0.5258\n",
      "Test score: 3.9893312454223633\n",
      "Test accuracy: 0.5257627964019775\n"
     ]
    }
   ],
   "source": [
    " # Evaluate the model on the test data\n",
    "score, acc = model_01.evaluate(x_test_pad, y_test_enc, batch_size=32)\n",
    "print(\"Test score:\", score)\n",
    "print(\"Test accuracy:\", acc)"
   ]
  },
  {
   "cell_type": "code",
   "execution_count": 20,
   "id": "46b24818",
   "metadata": {},
   "outputs": [
    {
     "name": "stdout",
     "output_type": "stream",
     "text": [
      "  7/372 [..............................] - ETA: 3s  "
     ]
    },
    {
     "name": "stderr",
     "output_type": "stream",
     "text": [
      "2024-01-18 14:54:15.086398: I tensorflow/core/grappler/optimizers/custom_graph_optimizer_registry.cc:114] Plugin optimizer for device_type GPU is enabled.\n",
      "2024-01-18 14:54:15.124185: I tensorflow/core/grappler/optimizers/custom_graph_optimizer_registry.cc:114] Plugin optimizer for device_type GPU is enabled.\n"
     ]
    },
    {
     "name": "stdout",
     "output_type": "stream",
     "text": [
      "372/372 [==============================] - 3s 9ms/step\n",
      "              precision    recall  f1-score   support\n",
      "\n",
      "           0       0.33      0.32      0.33      2429\n",
      "           1       0.60      0.61      0.60      4135\n",
      "           2       0.63      0.63      0.63      4373\n",
      "           3       0.21      0.21      0.21       960\n",
      "\n",
      "    accuracy                           0.53     11897\n",
      "   macro avg       0.44      0.44      0.44     11897\n",
      "weighted avg       0.52      0.53      0.52     11897\n",
      "\n"
     ]
    }
   ],
   "source": [
    "# Generate the classification report\n",
    "y_pred = model_01.predict(x_test_pad)\n",
    "y_pred = np.argmax(y_pred, axis=1)\n",
    "print(classification_report(y_test, y_pred))"
   ]
  },
  {
   "cell_type": "code",
   "execution_count": 22,
   "id": "6a26a4c7",
   "metadata": {},
   "outputs": [
    {
     "data": {
      "text/plain": [
       "<Figure size 1000x1000 with 0 Axes>"
      ]
     },
     "metadata": {},
     "output_type": "display_data"
    },
    {
     "data": {
      "image/png": "[encoded data removed]",
      "text/plain": [
       "<Figure size 640x480 with 2 Axes>"
      ]
     },
     "metadata": {},
     "output_type": "display_data"
    }
   ],
   "source": [
    "from sklearn.metrics import confusion_matrix, ConfusionMatrixDisplay\n",
    "\n",
    "conf_matrix = confusion_matrix(y_test, y_pred)\n",
    "cm_display = ConfusionMatrixDisplay(confusion_matrix = conf_matrix, display_labels = [0,1,2,3])\n",
    "plt.figure(figsize=(10,10))\n",
    "cm_display.plot()\n",
    "plt.show()"
   ]
  },
  {
   "cell_type": "code",
   "execution_count": 23,
   "id": "8a0c1cff",
   "metadata": {},
   "outputs": [
    {
     "name": "stdout",
     "output_type": "stream",
     "text": [
      "Model: \"sequential_1\"\n",
      "_________________________________________________________________\n",
      " Layer (type)                Output Shape              Param #   \n",
      "=================================================================\n",
      " embedding_1 (Embedding)     (None, 140, 64)           6106880   \n",
      "                                                                 \n",
      " lstm_1 (LSTM)               (None, 140, 64)           33024     \n",
      "                                                                 \n",
      " dropout_1 (Dropout)         (None, 140, 64)           0         \n",
      "                                                                 \n",
      " lstm_2 (LSTM)               (None, 140, 64)           33024     \n",
      "                                                                 \n",
      " dropout_2 (Dropout)         (None, 140, 64)           0         \n",
      "                                                                 \n",
      " flatten (Flatten)           (None, 8960)              0         \n",
      "                                                                 \n",
      " dense_1 (Dense)             (None, 4)                 35844     \n",
      "                                                                 \n",
      "=================================================================\n",
      "Total params: 6208772 (23.68 MB)\n",
      "Trainable params: 6208772 (23.68 MB)\n",
      "Non-trainable params: 0 (0.00 Byte)\n",
      "_________________________________________________________________\n"
     ]
    }
   ],
   "source": [
    "# Define LSTM model_02\n",
    "from keras.layers import Flatten\n",
    "\n",
    "model_02 = Sequential()\n",
    "model_02.add(Embedding(input_dim=n_words, output_dim=64, input_length=max_length))\n",
    "model_02.add(LSTM(64,return_sequences=True))\n",
    "model_02.add(Dropout(0.5))\n",
    "model_02.add(LSTM(64, return_sequences=True))\n",
    "model_02.add(Dropout(0.5))\n",
    "model_02.add(Flatten())\n",
    "model_02.add(Dense(n_classes, activation='softmax'))\n",
    "model_02.summary()"
   ]
  },
  {
   "cell_type": "code",
   "execution_count": 24,
   "id": "c94007ce",
   "metadata": {},
   "outputs": [
    {
     "name": "stdout",
     "output_type": "stream",
     "text": [
      "Epoch 1/20\n"
     ]
    },
    {
     "name": "stderr",
     "output_type": "stream",
     "text": [
      "2024-01-18 14:55:28.520649: I tensorflow/core/grappler/optimizers/custom_graph_optimizer_registry.cc:114] Plugin optimizer for device_type GPU is enabled.\n",
      "2024-01-18 14:55:28.694924: I tensorflow/core/grappler/optimizers/custom_graph_optimizer_registry.cc:114] Plugin optimizer for device_type GPU is enabled.\n",
      "2024-01-18 14:55:28.763555: I tensorflow/core/grappler/optimizers/custom_graph_optimizer_registry.cc:114] Plugin optimizer for device_type GPU is enabled.\n",
      "2024-01-18 14:55:29.065187: I tensorflow/core/grappler/optimizers/custom_graph_optimizer_registry.cc:114] Plugin optimizer for device_type GPU is enabled.\n",
      "2024-01-18 14:55:29.183077: I tensorflow/core/grappler/optimizers/custom_graph_optimizer_registry.cc:114] Plugin optimizer for device_type GPU is enabled.\n"
     ]
    },
    {
     "name": "stdout",
     "output_type": "stream",
     "text": [
      "3012/3012 [==============================] - ETA: 0s - loss: 1.0057 - accuracy: 0.5805"
     ]
    },
    {
     "name": "stderr",
     "output_type": "stream",
     "text": [
      "2024-01-18 14:58:26.857731: I tensorflow/core/grappler/optimizers/custom_graph_optimizer_registry.cc:114] Plugin optimizer for device_type GPU is enabled.\n",
      "2024-01-18 14:58:26.926262: I tensorflow/core/grappler/optimizers/custom_graph_optimizer_registry.cc:114] Plugin optimizer for device_type GPU is enabled.\n",
      "2024-01-18 14:58:26.994741: I tensorflow/core/grappler/optimizers/custom_graph_optimizer_registry.cc:114] Plugin optimizer for device_type GPU is enabled.\n"
     ]
    },
    {
     "name": "stdout",
     "output_type": "stream",
     "text": [
      "3012/3012 [==============================] - 185s 61ms/step - loss: 1.0057 - accuracy: 0.5805 - val_loss: 0.9326 - val_accuracy: 0.6345\n",
      "Epoch 2/20\n",
      "3012/3012 [==============================] - 183s 61ms/step - loss: 0.8177 - accuracy: 0.6775 - val_loss: 0.9361 - val_accuracy: 0.6193\n",
      "Epoch 3/20\n",
      "3012/3012 [==============================] - 174s 58ms/step - loss: 0.6344 - accuracy: 0.7588 - val_loss: 1.0020 - val_accuracy: 0.6091\n",
      "Epoch 4/20\n",
      "3012/3012 [==============================] - 171s 57ms/step - loss: 0.4828 - accuracy: 0.8189 - val_loss: 1.2366 - val_accuracy: 0.5893\n",
      "Epoch 5/20\n",
      "3012/3012 [==============================] - 169s 56ms/step - loss: 0.3800 - accuracy: 0.8574 - val_loss: 1.3650 - val_accuracy: 0.5792\n",
      "Epoch 6/20\n",
      "3012/3012 [==============================] - 736s 244ms/step - loss: 0.3089 - accuracy: 0.8839 - val_loss: 1.5617 - val_accuracy: 0.5680\n",
      "Epoch 7/20\n",
      "3012/3012 [==============================] - 179s 60ms/step - loss: 0.2606 - accuracy: 0.9010 - val_loss: 1.8043 - val_accuracy: 0.5520\n",
      "Epoch 8/20\n",
      "3012/3012 [==============================] - 178s 59ms/step - loss: 0.2245 - accuracy: 0.9156 - val_loss: 1.9263 - val_accuracy: 0.5586\n",
      "Epoch 9/20\n",
      "3012/3012 [==============================] - 170s 56ms/step - loss: 0.1984 - accuracy: 0.9249 - val_loss: 1.9993 - val_accuracy: 0.5577\n",
      "Epoch 10/20\n",
      "3012/3012 [==============================] - 177s 59ms/step - loss: 0.1768 - accuracy: 0.9334 - val_loss: 2.1882 - val_accuracy: 0.5569\n",
      "Epoch 11/20\n",
      "3012/3012 [==============================] - 174s 58ms/step - loss: 0.1579 - accuracy: 0.9406 - val_loss: 2.4773 - val_accuracy: 0.5516\n",
      "Epoch 12/20\n",
      "3012/3012 [==============================] - 174s 58ms/step - loss: 0.1442 - accuracy: 0.9460 - val_loss: 2.4592 - val_accuracy: 0.5479\n",
      "Epoch 13/20\n",
      "3012/3012 [==============================] - 175s 58ms/step - loss: 0.1319 - accuracy: 0.9502 - val_loss: 2.5728 - val_accuracy: 0.5460\n",
      "Epoch 14/20\n",
      "3012/3012 [==============================] - 176s 58ms/step - loss: 0.1217 - accuracy: 0.9546 - val_loss: 2.6273 - val_accuracy: 0.5422\n",
      "Epoch 15/20\n",
      "3012/3012 [==============================] - 175s 58ms/step - loss: 0.1118 - accuracy: 0.9584 - val_loss: 2.7262 - val_accuracy: 0.5410\n",
      "Epoch 16/20\n",
      "3012/3012 [==============================] - 2657s 882ms/step - loss: 0.1041 - accuracy: 0.9613 - val_loss: 2.8430 - val_accuracy: 0.5386\n",
      "Epoch 17/20\n",
      "3012/3012 [==============================] - 3049s 1s/step - loss: 0.0972 - accuracy: 0.9643 - val_loss: 3.0027 - val_accuracy: 0.5432\n",
      "Epoch 18/20\n",
      "3012/3012 [==============================] - 3203s 1s/step - loss: 0.0919 - accuracy: 0.9661 - val_loss: 3.0840 - val_accuracy: 0.5424\n",
      "Epoch 19/20\n",
      "3012/3012 [==============================] - 4162s 1s/step - loss: 0.0865 - accuracy: 0.9684 - val_loss: 3.0969 - val_accuracy: 0.5382\n",
      "Epoch 20/20\n",
      "3012/3012 [==============================] - 2924s 971ms/step - loss: 0.0809 - accuracy: 0.9700 - val_loss: 3.1699 - val_accuracy: 0.5449\n"
     ]
    }
   ],
   "source": [
    "# Compile and fit the model\n",
    "model_02.compile(optimizer='adam', loss='categorical_crossentropy', metrics=['accuracy'])\n",
    "history = model_02.fit(x_train_pad, y_train_enc, batch_size=32, epochs=20, validation_data=(x_val_pad, y_val_enc))"
   ]
  },
  {
   "cell_type": "code",
   "execution_count": 25,
   "id": "85b50909",
   "metadata": {},
   "outputs": [
    {
     "data": {
      "image/png": "[encoded data removed]",
      "text/plain": [
       "<Figure size 640x480 with 1 Axes>"
      ]
     },
     "metadata": {},
     "output_type": "display_data"
    }
   ],
   "source": [
    "# summarize history for loss\n",
    "plt.plot(history.history['loss'])\n",
    "plt.plot(history.history['val_loss'])\n",
    "plt.title('model loss')\n",
    "plt.ylabel('loss')\n",
    "plt.xlabel('epoch')\n",
    "plt.legend(['train', 'val'], loc='upper right')\n",
    "plt.show()"
   ]
  },
  {
   "cell_type": "code",
   "execution_count": 26,
   "id": "08e8f143",
   "metadata": {},
   "outputs": [
    {
     "data": {
      "image/png": "[encoded data removed]",
      "text/plain": [
       "<Figure size 640x480 with 1 Axes>"
      ]
     },
     "metadata": {},
     "output_type": "display_data"
    }
   ],
   "source": [
    "# summarize history for accuracy\n",
    "plt.plot(history.history['accuracy'])\n",
    "plt.plot(history.history['val_accuracy'])\n",
    "plt.title('model accuracy')\n",
    "plt.ylabel('accuracy')\n",
    "plt.xlabel('epoch')\n",
    "plt.legend(['train', 'val'], loc='upper left')\n",
    "plt.show()"
   ]
  },
  {
   "cell_type": "code",
   "execution_count": 27,
   "id": "99894c5b",
   "metadata": {},
   "outputs": [
    {
     "name": "stdout",
     "output_type": "stream",
     "text": [
      "372/372 [==============================] - 6s 16ms/step - loss: 3.2057 - accuracy: 0.5384\n",
      "Test score: 3.2057180404663086\n",
      "Test accuracy: 0.5383710265159607\n"
     ]
    }
   ],
   "source": [
    "# Evaluate the model on the test data\n",
    "score, acc = model_02.evaluate(x_test_pad, y_test_enc, batch_size=32)\n",
    "print(\"Test score:\", score)\n",
    "print(\"Test accuracy:\", acc)"
   ]
  },
  {
   "cell_type": "code",
   "execution_count": 28,
   "id": "e6f42508",
   "metadata": {},
   "outputs": [
    {
     "name": "stdout",
     "output_type": "stream",
     "text": [
      "  1/372 [..............................] - ETA: 2:05"
     ]
    },
    {
     "name": "stderr",
     "output_type": "stream",
     "text": [
      "2024-01-18 20:15:25.094640: I tensorflow/core/grappler/optimizers/custom_graph_optimizer_registry.cc:114] Plugin optimizer for device_type GPU is enabled.\n",
      "2024-01-18 20:15:25.153329: I tensorflow/core/grappler/optimizers/custom_graph_optimizer_registry.cc:114] Plugin optimizer for device_type GPU is enabled.\n",
      "2024-01-18 20:15:25.220028: I tensorflow/core/grappler/optimizers/custom_graph_optimizer_registry.cc:114] Plugin optimizer for device_type GPU is enabled.\n"
     ]
    },
    {
     "name": "stdout",
     "output_type": "stream",
     "text": [
      "372/372 [==============================] - 4s 9ms/step\n",
      "              precision    recall  f1-score   support\n",
      "\n",
      "           0       0.35      0.37      0.36      2429\n",
      "           1       0.61      0.61      0.61      4135\n",
      "           2       0.63      0.64      0.63      4373\n",
      "           3       0.24      0.20      0.22       960\n",
      "\n",
      "    accuracy                           0.54     11897\n",
      "   macro avg       0.46      0.45      0.46     11897\n",
      "weighted avg       0.54      0.54      0.54     11897\n",
      "\n"
     ]
    }
   ],
   "source": [
    "# Generate the classification report\n",
    "y_pred = model_02.predict(x_test_pad)\n",
    "y_pred = np.argmax(y_pred, axis=1)\n",
    "print(classification_report(y_test, y_pred))"
   ]
  },
  {
   "cell_type": "code",
   "execution_count": 30,
   "id": "ee3044ae",
   "metadata": {},
   "outputs": [
    {
     "data": {
      "text/plain": [
       "<Figure size 1000x1000 with 0 Axes>"
      ]
     },
     "metadata": {},
     "output_type": "display_data"
    },
    {
     "data": {
      "image/png": "[encoded data removed]",
      "text/plain": [
       "<Figure size 640x480 with 2 Axes>"
      ]
     },
     "metadata": {},
     "output_type": "display_data"
    }
   ],
   "source": [
    "conf_matrix = confusion_matrix(y_test, y_pred)\n",
    "cm_display = ConfusionMatrixDisplay(confusion_matrix = conf_matrix, display_labels = [0,1,2,3])\n",
    "plt.figure(figsize=(10,10))\n",
    "cm_display.plot()\n",
    "plt.show()"
   ]
  },
  {
   "cell_type": "markdown",
   "id": "a799ec84",
   "metadata": {},
   "source": [
    "LSTM with Glove pre-trained word embeddings."
   ]
  },
  {
   "cell_type": "code",
   "execution_count": 31,
   "id": "fb915903",
   "metadata": {},
   "outputs": [
    {
     "name": "stdout",
     "output_type": "stream",
     "text": [
      "zsh:1: command not found: wget\n",
      "unzip:  cannot find or open glove.6B.zip, glove.6B.zip.zip or glove.6B.zip.ZIP.\n"
     ]
    }
   ],
   "source": [
    "#Download Glove word embeddings\n",
    "!wget http://nlp.stanford.edu/data/glove.6B.zip\n",
    "!unzip -q glove.6B.zip"
   ]
  },
  {
   "cell_type": "code",
   "execution_count": 32,
   "id": "4c8b651d",
   "metadata": {},
   "outputs": [
    {
     "ename": "FileNotFoundError",
     "evalue": "[Errno 2] No such file or directory: '/content/glove.6B.100d.txt'",
     "output_type": "error",
     "traceback": [
      "\u001b[0;31m---------------------------------------------------------------------------\u001b[0m",
      "\u001b[0;31mFileNotFoundError\u001b[0m                         Traceback (most recent call last)",
      "Cell \u001b[0;32mIn[32], line 3\u001b[0m\n\u001b[1;32m      1\u001b[0m \u001b[38;5;66;03m#Create a dictionary with Glove embeddings\u001b[39;00m\n\u001b[1;32m      2\u001b[0m embeddings_index \u001b[38;5;241m=\u001b[39m {}\n\u001b[0;32m----> 3\u001b[0m \u001b[38;5;28;01mwith\u001b[39;00m \u001b[38;5;28;43mopen\u001b[39;49m\u001b[43m(\u001b[49m\u001b[38;5;124;43m\"\u001b[39;49m\u001b[38;5;124;43m/content/glove.6B.100d.txt\u001b[39;49m\u001b[38;5;124;43m\"\u001b[39;49m\u001b[43m,\u001b[49m\u001b[43m \u001b[49m\u001b[38;5;124;43m'\u001b[39;49m\u001b[38;5;124;43mr\u001b[39;49m\u001b[38;5;124;43m'\u001b[39;49m\u001b[43m)\u001b[49m \u001b[38;5;28;01mas\u001b[39;00m f:\n\u001b[1;32m      4\u001b[0m     \u001b[38;5;28;01mfor\u001b[39;00m line \u001b[38;5;129;01min\u001b[39;00m f:\n\u001b[1;32m      5\u001b[0m         values \u001b[38;5;241m=\u001b[39m line\u001b[38;5;241m.\u001b[39msplit()\n",
      "File \u001b[0;32m~/anaconda3/envs/tensorflow/lib/python3.10/site-packages/IPython/core/interactiveshell.py:284\u001b[0m, in \u001b[0;36m_modified_open\u001b[0;34m(file, *args, **kwargs)\u001b[0m\n\u001b[1;32m    277\u001b[0m \u001b[38;5;28;01mif\u001b[39;00m file \u001b[38;5;129;01min\u001b[39;00m {\u001b[38;5;241m0\u001b[39m, \u001b[38;5;241m1\u001b[39m, \u001b[38;5;241m2\u001b[39m}:\n\u001b[1;32m    278\u001b[0m     \u001b[38;5;28;01mraise\u001b[39;00m \u001b[38;5;167;01mValueError\u001b[39;00m(\n\u001b[1;32m    279\u001b[0m         \u001b[38;5;124mf\u001b[39m\u001b[38;5;124m\"\u001b[39m\u001b[38;5;124mIPython won\u001b[39m\u001b[38;5;124m'\u001b[39m\u001b[38;5;124mt let you open fd=\u001b[39m\u001b[38;5;132;01m{\u001b[39;00mfile\u001b[38;5;132;01m}\u001b[39;00m\u001b[38;5;124m by default \u001b[39m\u001b[38;5;124m\"\u001b[39m\n\u001b[1;32m    280\u001b[0m         \u001b[38;5;124m\"\u001b[39m\u001b[38;5;124mas it is likely to crash IPython. If you know what you are doing, \u001b[39m\u001b[38;5;124m\"\u001b[39m\n\u001b[1;32m    281\u001b[0m         \u001b[38;5;124m\"\u001b[39m\u001b[38;5;124myou can use builtins\u001b[39m\u001b[38;5;124m'\u001b[39m\u001b[38;5;124m open.\u001b[39m\u001b[38;5;124m\"\u001b[39m\n\u001b[1;32m    282\u001b[0m     )\n\u001b[0;32m--> 284\u001b[0m \u001b[38;5;28;01mreturn\u001b[39;00m \u001b[43mio_open\u001b[49m\u001b[43m(\u001b[49m\u001b[43mfile\u001b[49m\u001b[43m,\u001b[49m\u001b[43m \u001b[49m\u001b[38;5;241;43m*\u001b[39;49m\u001b[43margs\u001b[49m\u001b[43m,\u001b[49m\u001b[43m \u001b[49m\u001b[38;5;241;43m*\u001b[39;49m\u001b[38;5;241;43m*\u001b[39;49m\u001b[43mkwargs\u001b[49m\u001b[43m)\u001b[49m\n",
      "\u001b[0;31mFileNotFoundError\u001b[0m: [Errno 2] No such file or directory: '/content/glove.6B.100d.txt'"
     ]
    }
   ],
   "source": [
    "#Create a dictionary with Glove embeddings\n",
    "embeddings_index = {}\n",
    "with open(\"/content/glove.6B.100d.txt\", 'r') as f:\n",
    "    for line in f:\n",
    "        values = line.split()\n",
    "        word = values[0]\n",
    "        coefs = np.asarray(values[1:], dtype='float32')\n",
    "        embeddings_index[word] = coefs"
   ]
  },
  {
   "cell_type": "code",
   "execution_count": null,
   "id": "108956db",
   "metadata": {},
   "outputs": [],
   "source": [
    "#Create embedding matrix. Words not found in embedding index will be all-zeros.\n",
    "embedding_matrix = np.zeros((n_words, 100))\n",
    "for word, i in word_index.items():\n",
    "    embedding_vector = embeddings_index.get(word)\n",
    "    if embedding_vector is not None:\n",
    "        embedding_matrix[i] = embedding_vector"
   ]
  },
  {
   "cell_type": "code",
   "execution_count": null,
   "id": "6398be1d",
   "metadata": {},
   "outputs": [],
   "source": [
    "#first LSTM model\n",
    "model_03 = Sequential()\n",
    "model_03.add(Embedding(input_dim=n_words, output_dim=100, input_length=max_length, weights=[embedding_matrix], trainable=False))\n",
    "model_03.add(LSTM(64))\n",
    "model_03.add(Dropout(0.5))\n",
    "model_03.add(Dense(n_classes, activation='softmax'))\n",
    "model_03.summary()"
   ]
  },
  {
   "cell_type": "code",
   "execution_count": null,
   "id": "808ca0b3",
   "metadata": {},
   "outputs": [],
   "source": [
    "# Compile and fit the model\n",
    "model_03.compile(optimizer='adam', loss='categorical_crossentropy', metrics=['accuracy'])\n",
    "history = model_03.fit(x_train_pad, y_train_enc, batch_size=32, epochs=20, validation_data=(x_val_pad, y_val_enc))"
   ]
  },
  {
   "cell_type": "code",
   "execution_count": null,
   "id": "bada5216",
   "metadata": {},
   "outputs": [],
   "source": [
    "# summarize history for loss\n",
    "plt.plot(history.history['loss'])\n",
    "plt.plot(history.history['val_loss'])\n",
    "plt.title('model loss')\n",
    "plt.ylabel('loss')\n",
    "plt.xlabel('epoch')\n",
    "plt.legend(['train', 'val'], loc='upper right')\n",
    "plt.show()"
   ]
  },
  {
   "cell_type": "code",
   "execution_count": null,
   "id": "61436dd1",
   "metadata": {},
   "outputs": [],
   "source": [
    "# summarize history for accuracy\n",
    "plt.plot(history.history['accuracy'])\n",
    "plt.plot(history.history['val_accuracy'])\n",
    "plt.title('model accuracy')\n",
    "plt.ylabel('accuracy')\n",
    "plt.xlabel('epoch')\n",
    "plt.legend(['train', 'val'], loc='upper left')\n",
    "plt.show()"
   ]
  },
  {
   "cell_type": "code",
   "execution_count": null,
   "id": "94fda76e",
   "metadata": {},
   "outputs": [],
   "source": [
    "# Evaluate the model on the test data\n",
    "score, acc = model_03.evaluate(x_test_pad, y_test_enc, batch_size=32)\n",
    "print(\"Test score:\", score)\n",
    "print(\"Test accuracy:\", acc)"
   ]
  },
  {
   "cell_type": "code",
   "execution_count": null,
   "id": "d913b84d",
   "metadata": {},
   "outputs": [],
   "source": [
    "# Generate the classification report\n",
    "y_pred = model_03.predict(x_test_pad)\n",
    "y_pred = np.argmax(y_pred, axis=1)\n",
    "print(classification_report(y_test, y_pred))"
   ]
  },
  {
   "cell_type": "code",
   "execution_count": null,
   "id": "aeba0c86",
   "metadata": {},
   "outputs": [],
   "source": [
    "conf_matrix = confusion_matrix(y_test, y_pred)\n",
    "cm_display = ConfusionMatrixDisplay(confusion_matrix = conf_matrix, display_labels = [0,1,2,3,4])\n",
    "plt.figure(figsize=(10,10))\n",
    "cm_display.plot()\n",
    "plt.show()"
   ]
  },
  {
   "cell_type": "code",
   "execution_count": null,
   "id": "b5bc1922",
   "metadata": {},
   "outputs": [],
   "source": [
    "# Define the LSTM model_02\n",
    "model_04 = Sequential()\n",
    "model_04.add(Embedding(input_dim=n_words, output_dim=100, input_length=max_length, weights=[embedding_matrix], trainable=False,input_shape=(max_length,)))\n",
    "model_04.add(LSTM(64,return_sequences=True))\n",
    "model_04.add(Dropout(0.5))\n",
    "model_04.add(LSTM(64, return_sequences=True))\n",
    "model_04.add(Dropout(0.5))\n",
    "model_04.add(Flatten())\n",
    "model_04.add(Dense(n_classes, activation='softmax'))\n",
    "model_04.summary()"
   ]
  },
  {
   "cell_type": "code",
   "execution_count": null,
   "id": "b943629e",
   "metadata": {},
   "outputs": [],
   "source": [
    "# Compile and fit the model\n",
    "model_04.compile(optimizer='adam', loss='categorical_crossentropy', metrics=['accuracy'])\n",
    "history = model_04.fit(x_train_pad, y_train_enc, batch_size=32, epochs=20, validation_data=(x_val_pad, y_val_enc))"
   ]
  },
  {
   "cell_type": "code",
   "execution_count": null,
   "id": "b097d8b0",
   "metadata": {},
   "outputs": [],
   "source": [
    "# summarize history for loss\n",
    "plt.plot(history.history['loss'])\n",
    "plt.plot(history.history['val_loss'])\n",
    "plt.title('model loss')\n",
    "plt.ylabel('loss')\n",
    "plt.xlabel('epoch')\n",
    "plt.legend(['train', 'val'], loc='upper right')\n",
    "plt.show()"
   ]
  },
  {
   "cell_type": "code",
   "execution_count": null,
   "id": "b0dc8f73",
   "metadata": {},
   "outputs": [],
   "source": [
    "# summarize history for accuracy\n",
    "plt.plot(history.history['accuracy'])\n",
    "plt.plot(history.history['val_accuracy'])\n",
    "plt.title('model accuracy')\n",
    "plt.ylabel('accuracy')\n",
    "plt.xlabel('epoch')\n",
    "plt.legend(['train', 'val'], loc='upper left')\n",
    "plt.show()"
   ]
  },
  {
   "cell_type": "code",
   "execution_count": null,
   "id": "58027f69",
   "metadata": {},
   "outputs": [],
   "source": [
    "# Evaluate the model on the test data\n",
    "score, acc = model_04.evaluate(x_test_pad, y_test_enc, batch_size=32)\n",
    "print(\"Test score:\", score)\n",
    "print(\"Test accuracy:\", acc)"
   ]
  },
  {
   "cell_type": "code",
   "execution_count": null,
   "id": "df939a02",
   "metadata": {},
   "outputs": [],
   "source": [
    "# Generate the classification report\n",
    "y_pred = model_04.predict(x_test_pad)\n",
    "y_pred = np.argmax(y_pred, axis=1)\n",
    "print(classification_report(y_test, y_pred))"
   ]
  },
  {
   "cell_type": "code",
   "execution_count": null,
   "id": "4aa0f131",
   "metadata": {},
   "outputs": [],
   "source": [
    "conf_matrix = confusion_matrix(y_test, y_pred)\n",
    "cm_display = ConfusionMatrixDisplay(confusion_matrix = conf_matrix, display_labels = [0,1,2,3,4])\n",
    "plt.figure(figsize=(10,10))\n",
    "cm_display.plot()\n",
    "plt.show()"
   ]
  },
  {
   "cell_type": "code",
   "execution_count": null,
   "id": "54f1576f",
   "metadata": {},
   "outputs": [],
   "source": []
  }
 ],
 "metadata": {
  "kernelspec": {
   "display_name": "Python 3.10 (tensorflow)",
   "language": "python",
   "name": "tensorflow"
  },
  "language_info": {
   "codemirror_mode": {
    "name": "ipython",
    "version": 3
   },
   "file_extension": ".py",
   "mimetype": "text/x-python",
   "name": "python",
   "nbconvert_exporter": "python",
   "pygments_lexer": "ipython3",
   "version": "3.10.12"
  }
 },
 "nbformat": 4,
 "nbformat_minor": 5
}
