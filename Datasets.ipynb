{
 "cells": [
  {
   "cell_type": "markdown",
   "id": "d031558f",
   "metadata": {},
   "source": [
    "Creating an emotions datasets for different available tweets labeled datasets "
   ]
  },
  {
   "cell_type": "code",
   "execution_count": 1,
   "id": "d41ef5f9",
   "metadata": {},
   "outputs": [
    {
     "name": "stdout",
     "output_type": "stream",
     "text": [
      "Index(['Text', 'Emotion'], dtype='object')\n",
      "\n",
      "(21459, 2)\n",
      "                                                Text  Emotion\n",
      "0                            i didnt feel humiliated  sadness\n",
      "1  i can go from feeling so hopeless to so damned...  sadness\n",
      "2   im grabbing a minute to post i feel greedy wrong    anger\n",
      "3  i am ever feeling nostalgic about the fireplac...     love\n",
      "4                               i am feeling grouchy    anger\n",
      "\n",
      "Text       object\n",
      "Emotion    object\n",
      "dtype: object\n",
      "6\n"
     ]
    }
   ],
   "source": [
    "import pandas as pd\n",
    "\n",
    "\n",
    "data_01=pd.read_csv('Emotion_final.csv')\n",
    "\n",
    "print(data_01.columns)\n",
    "print('')\n",
    "print(data_01.shape)\n",
    "print(data_01.head())\n",
    "print('')\n",
    "print(data_01.dtypes)\n",
    "print(data_01['Emotion'].nunique())"
   ]
  },
  {
   "cell_type": "code",
   "execution_count": 2,
   "id": "07f562ea",
   "metadata": {},
   "outputs": [
    {
     "data": {
      "text/plain": [
       "happy       7029\n",
       "sadness     6265\n",
       "anger       2993\n",
       "fear        2652\n",
       "love        1641\n",
       "surprise     879\n",
       "Name: Emotion, dtype: int64"
      ]
     },
     "execution_count": 2,
     "metadata": {},
     "output_type": "execute_result"
    }
   ],
   "source": [
    "data_01['Emotion'].value_counts()"
   ]
  },
  {
   "cell_type": "code",
   "execution_count": 3,
   "id": "f2881204",
   "metadata": {},
   "outputs": [
    {
     "name": "stdout",
     "output_type": "stream",
     "text": [
      "Index(['tweet_id', 'sentiment', 'content'], dtype='object')\n",
      "\n",
      "(40000, 3)\n",
      "     tweet_id   sentiment                                            content\n",
      "0  1956967341       empty  @tiffanylue i know  i was listenin to bad habi...\n",
      "1  1956967666     sadness  Layin n bed with a headache  ughhhh...waitin o...\n",
      "2  1956967696     sadness                Funeral ceremony...gloomy friday...\n",
      "3  1956967789  enthusiasm               wants to hang out with friends SOON!\n",
      "4  1956968416     neutral  @dannycastillo We want to trade with someone w...\n",
      "\n",
      "tweet_id      int64\n",
      "sentiment    object\n",
      "content      object\n",
      "dtype: object\n",
      "13\n"
     ]
    }
   ],
   "source": [
    "data_02=pd.read_csv('tweet_emotions.csv')\n",
    "\n",
    "print(data_02.columns)\n",
    "print('')\n",
    "print(data_02.shape)\n",
    "print(data_02.head())\n",
    "print('')\n",
    "print(data_02.dtypes)\n",
    "print(data_02['sentiment'].nunique())"
   ]
  },
  {
   "cell_type": "code",
   "execution_count": 4,
   "id": "90cf4b2b",
   "metadata": {},
   "outputs": [
    {
     "data": {
      "text/plain": [
       "neutral       8638\n",
       "worry         8459\n",
       "happiness     5209\n",
       "sadness       5165\n",
       "love          3842\n",
       "surprise      2187\n",
       "fun           1776\n",
       "relief        1526\n",
       "hate          1323\n",
       "empty          827\n",
       "enthusiasm     759\n",
       "boredom        179\n",
       "anger          110\n",
       "Name: sentiment, dtype: int64"
      ]
     },
     "execution_count": 4,
     "metadata": {},
     "output_type": "execute_result"
    }
   ],
   "source": [
    "data_02['sentiment'].value_counts()"
   ]
  },
  {
   "cell_type": "code",
   "execution_count": 5,
   "id": "0da22a20",
   "metadata": {},
   "outputs": [
    {
     "data": {
      "text/html": [
       "<div>\n",
       "<style scoped>\n",
       "    .dataframe tbody tr th:only-of-type {\n",
       "        vertical-align: middle;\n",
       "    }\n",
       "\n",
       "    .dataframe tbody tr th {\n",
       "        vertical-align: top;\n",
       "    }\n",
       "\n",
       "    .dataframe thead th {\n",
       "        text-align: right;\n",
       "    }\n",
       "</style>\n",
       "<table border=\"1\" class=\"dataframe\">\n",
       "  <thead>\n",
       "    <tr style=\"text-align: right;\">\n",
       "      <th></th>\n",
       "      <th>Text</th>\n",
       "      <th>Emotion</th>\n",
       "    </tr>\n",
       "  </thead>\n",
       "  <tbody>\n",
       "    <tr>\n",
       "      <th>0</th>\n",
       "      <td>@tiffanylue i know  i was listenin to bad habi...</td>\n",
       "      <td>empty</td>\n",
       "    </tr>\n",
       "    <tr>\n",
       "      <th>1</th>\n",
       "      <td>Layin n bed with a headache  ughhhh...waitin o...</td>\n",
       "      <td>sadness</td>\n",
       "    </tr>\n",
       "    <tr>\n",
       "      <th>2</th>\n",
       "      <td>Funeral ceremony...gloomy friday...</td>\n",
       "      <td>sadness</td>\n",
       "    </tr>\n",
       "    <tr>\n",
       "      <th>3</th>\n",
       "      <td>wants to hang out with friends SOON!</td>\n",
       "      <td>enthusiasm</td>\n",
       "    </tr>\n",
       "    <tr>\n",
       "      <th>4</th>\n",
       "      <td>@dannycastillo We want to trade with someone w...</td>\n",
       "      <td>neutral</td>\n",
       "    </tr>\n",
       "  </tbody>\n",
       "</table>\n",
       "</div>"
      ],
      "text/plain": [
       "                                                Text     Emotion\n",
       "0  @tiffanylue i know  i was listenin to bad habi...       empty\n",
       "1  Layin n bed with a headache  ughhhh...waitin o...     sadness\n",
       "2                Funeral ceremony...gloomy friday...     sadness\n",
       "3               wants to hang out with friends SOON!  enthusiasm\n",
       "4  @dannycastillo We want to trade with someone w...     neutral"
      ]
     },
     "execution_count": 5,
     "metadata": {},
     "output_type": "execute_result"
    }
   ],
   "source": [
    "data_03=data_02[[\"content\",'sentiment']]\n",
    "data_04=data_03.rename(columns={'content':'Text', 'sentiment':'Emotion'})\n",
    "data_04.head()"
   ]
  },
  {
   "cell_type": "code",
   "execution_count": 6,
   "id": "10c7a7af",
   "metadata": {},
   "outputs": [
    {
     "data": {
      "text/html": [
       "<div>\n",
       "<style scoped>\n",
       "    .dataframe tbody tr th:only-of-type {\n",
       "        vertical-align: middle;\n",
       "    }\n",
       "\n",
       "    .dataframe tbody tr th {\n",
       "        vertical-align: top;\n",
       "    }\n",
       "\n",
       "    .dataframe thead th {\n",
       "        text-align: right;\n",
       "    }\n",
       "</style>\n",
       "<table border=\"1\" class=\"dataframe\">\n",
       "  <thead>\n",
       "    <tr style=\"text-align: right;\">\n",
       "      <th></th>\n",
       "      <th>Text</th>\n",
       "      <th>Emotion</th>\n",
       "    </tr>\n",
       "  </thead>\n",
       "  <tbody>\n",
       "    <tr>\n",
       "      <th>0</th>\n",
       "      <td>i didnt feel humiliated</td>\n",
       "      <td>sadness</td>\n",
       "    </tr>\n",
       "    <tr>\n",
       "      <th>1</th>\n",
       "      <td>i can go from feeling so hopeless to so damned...</td>\n",
       "      <td>sadness</td>\n",
       "    </tr>\n",
       "    <tr>\n",
       "      <th>2</th>\n",
       "      <td>im grabbing a minute to post i feel greedy wrong</td>\n",
       "      <td>anger</td>\n",
       "    </tr>\n",
       "    <tr>\n",
       "      <th>3</th>\n",
       "      <td>i am ever feeling nostalgic about the fireplac...</td>\n",
       "      <td>love</td>\n",
       "    </tr>\n",
       "    <tr>\n",
       "      <th>4</th>\n",
       "      <td>i am feeling grouchy</td>\n",
       "      <td>anger</td>\n",
       "    </tr>\n",
       "  </tbody>\n",
       "</table>\n",
       "</div>"
      ],
      "text/plain": [
       "                                                Text  Emotion\n",
       "0                            i didnt feel humiliated  sadness\n",
       "1  i can go from feeling so hopeless to so damned...  sadness\n",
       "2   im grabbing a minute to post i feel greedy wrong    anger\n",
       "3  i am ever feeling nostalgic about the fireplac...     love\n",
       "4                               i am feeling grouchy    anger"
      ]
     },
     "execution_count": 6,
     "metadata": {},
     "output_type": "execute_result"
    }
   ],
   "source": [
    "data_01.head()"
   ]
  },
  {
   "cell_type": "code",
   "execution_count": 7,
   "id": "77f2959a",
   "metadata": {},
   "outputs": [
    {
     "name": "stdout",
     "output_type": "stream",
     "text": [
      "                                                Text  Emotion\n",
      "0                            i didnt feel humiliated  sadness\n",
      "1  i can go from feeling so hopeless to so damned...  sadness\n",
      "2   im grabbing a minute to post i feel greedy wrong    anger\n",
      "3  i am ever feeling nostalgic about the fireplac...     love\n",
      "4                               i am feeling grouchy    anger\n",
      "(61459, 2)\n",
      "\n",
      "Text       object\n",
      "Emotion    object\n",
      "dtype: object\n",
      "15\n",
      "sadness       11430\n",
      "neutral        8638\n",
      "worry          8459\n",
      "happy          7029\n",
      "love           5483\n",
      "happiness      5209\n",
      "anger          3103\n",
      "surprise       3066\n",
      "fear           2652\n",
      "fun            1776\n",
      "relief         1526\n",
      "hate           1323\n",
      "empty           827\n",
      "enthusiasm      759\n",
      "boredom         179\n",
      "Name: Emotion, dtype: int64\n"
     ]
    }
   ],
   "source": [
    "data= pd.concat([data_01, data_04])\n",
    "print(data.head())\n",
    "print(data.shape)\n",
    "print('')\n",
    "print(data.dtypes)\n",
    "print(data['Emotion'].nunique())\n",
    "print(data['Emotion'].value_counts())\n"
   ]
  },
  {
   "cell_type": "code",
   "execution_count": 8,
   "id": "d8ca5e5c",
   "metadata": {},
   "outputs": [
    {
     "data": {
      "text/plain": [
       "Text       0\n",
       "Emotion    0\n",
       "dtype: int64"
      ]
     },
     "execution_count": 8,
     "metadata": {},
     "output_type": "execute_result"
    }
   ],
   "source": [
    "data.isnull().sum()"
   ]
  },
  {
   "cell_type": "code",
   "execution_count": 9,
   "id": "ff3a0543",
   "metadata": {},
   "outputs": [
    {
     "data": {
      "text/plain": [
       "(61232, 2)"
      ]
     },
     "execution_count": 9,
     "metadata": {},
     "output_type": "execute_result"
    }
   ],
   "source": [
    "#Remove duplicates\n",
    "data=data.drop_duplicates(subset=['Text'])\n",
    "data.shape"
   ]
  },
  {
   "cell_type": "code",
   "execution_count": 10,
   "id": "6f189b4b",
   "metadata": {},
   "outputs": [
    {
     "name": "stdout",
     "output_type": "stream",
     "text": [
      "Instances per intent\n",
      "\n",
      "Intent percentage (%)\n",
      "sadness       19.0\n",
      "neutral       14.0\n",
      "worry         14.0\n",
      "happy         11.0\n",
      "love           9.0\n",
      "happiness      8.0\n",
      "anger          5.0\n",
      "surprise       5.0\n",
      "fear           4.0\n",
      "fun            3.0\n",
      "relief         2.0\n",
      "hate           2.0\n",
      "empty          1.0\n",
      "enthusiasm     1.0\n",
      "boredom        0.0\n",
      "Name: Emotion, dtype: float64\n"
     ]
    }
   ],
   "source": [
    "#Check instances \n",
    "print('Instances per intent')\n",
    "x=data['Emotion'].value_counts()\n",
    "y=(x/61232)*100\n",
    "print('')\n",
    "print('Intent percentage (%)')\n",
    "print(round(y,0))"
   ]
  },
  {
   "cell_type": "code",
   "execution_count": 11,
   "id": "c694ad16",
   "metadata": {},
   "outputs": [],
   "source": [
    "goEM_01 = pd.read_csv(\"https://storage.googleapis.com/gresearch/goemotions/data/full_dataset/goemotions_1.csv\")\n",
    "goEM_02 = pd.read_csv(\"https://storage.googleapis.com/gresearch/goemotions/data/full_dataset/goemotions_2.csv\")\n",
    "goEM_03 = pd.read_csv(\"https://storage.googleapis.com/gresearch/goemotions/data/full_dataset/goemotions_3.csv\")\n"
   ]
  },
  {
   "cell_type": "code",
   "execution_count": 12,
   "id": "7292eea2",
   "metadata": {},
   "outputs": [
    {
     "name": "stdout",
     "output_type": "stream",
     "text": [
      "(70000, 37) (70000, 37) (71225, 37)\n"
     ]
    }
   ],
   "source": [
    "print(goEM_01.shape, goEM_02.shape, goEM_03.shape)\n"
   ]
  },
  {
   "cell_type": "code",
   "execution_count": 13,
   "id": "bb505f91",
   "metadata": {},
   "outputs": [
    {
     "data": {
      "text/plain": [
       "(211225, 37)"
      ]
     },
     "execution_count": 13,
     "metadata": {},
     "output_type": "execute_result"
    }
   ],
   "source": [
    "goEM= pd.concat([goEM_01, goEM_02, goEM_03])\n",
    "goEM.shape"
   ]
  },
  {
   "cell_type": "code",
   "execution_count": 14,
   "id": "1525a38f",
   "metadata": {},
   "outputs": [
    {
     "data": {
      "text/plain": [
       "False    207814\n",
       "True       3411\n",
       "Name: example_very_unclear, dtype: int64"
      ]
     },
     "execution_count": 14,
     "metadata": {},
     "output_type": "execute_result"
    }
   ],
   "source": [
    "goEM['example_very_unclear'].value_counts()"
   ]
  },
  {
   "cell_type": "code",
   "execution_count": 15,
   "id": "53eaa527",
   "metadata": {},
   "outputs": [
    {
     "data": {
      "text/plain": [
       "(207814, 37)"
      ]
     },
     "execution_count": 15,
     "metadata": {},
     "output_type": "execute_result"
    }
   ],
   "source": [
    "goEM_new = goEM[goEM['example_very_unclear'] == False]\n",
    "\n",
    "goEM_new.shape"
   ]
  },
  {
   "cell_type": "code",
   "execution_count": 16,
   "id": "c5f734ca",
   "metadata": {},
   "outputs": [
    {
     "name": "stdout",
     "output_type": "stream",
     "text": [
      "Index(['text', 'id', 'author', 'subreddit', 'link_id', 'parent_id',\n",
      "       'created_utc', 'rater_id', 'example_very_unclear', 'admiration',\n",
      "       'amusement', 'anger', 'annoyance', 'approval', 'caring', 'confusion',\n",
      "       'curiosity', 'desire', 'disappointment', 'disapproval', 'disgust',\n",
      "       'embarrassment', 'excitement', 'fear', 'gratitude', 'grief', 'joy',\n",
      "       'love', 'nervousness', 'optimism', 'pride', 'realization', 'relief',\n",
      "       'remorse', 'sadness', 'surprise', 'neutral'],\n",
      "      dtype='object')\n"
     ]
    }
   ],
   "source": [
    "print(goEM_new.columns)\n"
   ]
  },
  {
   "cell_type": "code",
   "execution_count": 17,
   "id": "c977f387",
   "metadata": {},
   "outputs": [
    {
     "name": "stdout",
     "output_type": "stream",
     "text": [
      "(207814, 29)\n",
      "Index(['Text', 'admiration', 'amusement', 'anger', 'annoyance', 'approval',\n",
      "       'caring', 'confusion', 'curiosity', 'desire', 'disappointment',\n",
      "       'disapproval', 'disgust', 'embarrassment', 'excitement', 'fear',\n",
      "       'gratitude', 'grief', 'joy', 'love', 'nervousness', 'optimism', 'pride',\n",
      "       'realization', 'relief', 'remorse', 'sadness', 'surprise', 'neutral'],\n",
      "      dtype='object')\n"
     ]
    }
   ],
   "source": [
    "goEM_new_02=goEM_new[['text', 'admiration',\n",
    "       'amusement', 'anger', 'annoyance', 'approval', 'caring', 'confusion',\n",
    "       'curiosity', 'desire', 'disappointment', 'disapproval', 'disgust',\n",
    "       'embarrassment', 'excitement', 'fear', 'gratitude', 'grief', 'joy',\n",
    "       'love', 'nervousness', 'optimism', 'pride', 'realization', 'relief',\n",
    "       'remorse', 'sadness', 'surprise', 'neutral']]\n",
    "\n",
    "goEM_new_02=goEM_new_02.rename(columns={'text':'Text'})\n",
    "print(goEM_new_02.shape)\n",
    "print(goEM_new_02.columns)\n"
   ]
  },
  {
   "cell_type": "code",
   "execution_count": 18,
   "id": "2c976cc9",
   "metadata": {},
   "outputs": [
    {
     "name": "stdout",
     "output_type": "stream",
     "text": [
      "                                                    Text     Emotion\n",
      "0                                        That game hurt.     sadness\n",
      "2         You do right, if you don't care then fuck 'em!     neutral\n",
      "3                                     Man I love reddit.        love\n",
      "4      [NAME] was nowhere near them, he was by the Fa...     neutral\n",
      "5      Right? Considering it’s such an important docu...   gratitude\n",
      "...                                                  ...         ...\n",
      "71219  Well, I'm glad you're out of all that now. How...         joy\n",
      "71220                             Everyone likes [NAME].        love\n",
      "71221  Well when you’ve imported about a gazillion of...      caring\n",
      "71222                                 That looks amazing  admiration\n",
      "71223  The FDA has plenty to criticize. But like here...       anger\n",
      "\n",
      "[207814 rows x 2 columns]\n"
     ]
    }
   ],
   "source": [
    "# Create a new DataFrame with 'text' column\n",
    "goEM_new_03 = goEM_new_02[['Text']].copy()\n",
    "\n",
    "# Define a function to apply the rule\n",
    "def get_emotion(row):\n",
    "    emotions = row.index[1:]  # Exclude the 'text' column\n",
    "    for emotion in emotions:\n",
    "        if row[emotion] == 1:\n",
    "            return emotion\n",
    "    return None  # Return None if there is no value equal to 1\n",
    "\n",
    "# Apply the function to each row to populate the 'Emotion' column\n",
    "goEM_new_03['Emotion'] = goEM_new_02.apply(get_emotion, axis=1)\n",
    "\n",
    "# Display the resulting DataFrame\n",
    "print(goEM_new_03)"
   ]
  },
  {
   "cell_type": "code",
   "execution_count": 53,
   "id": "285c65a2",
   "metadata": {},
   "outputs": [
    {
     "name": "stdout",
     "output_type": "stream",
     "text": [
      "                                                    Text     Emotion\n",
      "0                                i didnt feel humiliated     sadness\n",
      "1      i can go from feeling so hopeless to so damned...     sadness\n",
      "2       im grabbing a minute to post i feel greedy wrong       anger\n",
      "3      i am ever feeling nostalgic about the fireplac...        love\n",
      "4                                   i am feeling grouchy       anger\n",
      "...                                                  ...         ...\n",
      "71219  Well, I'm glad you're out of all that now. How...         joy\n",
      "71220                             Everyone likes [NAME].        love\n",
      "71221  Well when you’ve imported about a gazillion of...      caring\n",
      "71222                                 That looks amazing  admiration\n",
      "71223  The FDA has plenty to criticize. But like here...       anger\n",
      "\n",
      "[269046 rows x 2 columns]\n"
     ]
    }
   ],
   "source": [
    "Emo_Data=pd.concat([data,goEM_new_03])\n",
    "print(Emo_Data)"
   ]
  },
  {
   "cell_type": "code",
   "execution_count": 54,
   "id": "29ab8cac",
   "metadata": {},
   "outputs": [
    {
     "data": {
      "text/plain": [
       "Text       0\n",
       "Emotion    0\n",
       "dtype: int64"
      ]
     },
     "execution_count": 54,
     "metadata": {},
     "output_type": "execute_result"
    }
   ],
   "source": [
    "Emo_Data.isnull().sum()"
   ]
  },
  {
   "cell_type": "code",
   "execution_count": 55,
   "id": "da920d6a",
   "metadata": {},
   "outputs": [
    {
     "name": "stdout",
     "output_type": "stream",
     "text": [
      "\n",
      "Number of duplicates based on 'Text' column: 150085\n"
     ]
    }
   ],
   "source": [
    "num_duplicates_subset = Emo_Data.duplicated(subset=['Text']).sum()\n",
    "print(\"\\nNumber of duplicates based on 'Text' column:\", num_duplicates_subset)\n"
   ]
  },
  {
   "cell_type": "code",
   "execution_count": 56,
   "id": "e2d86505",
   "metadata": {},
   "outputs": [
    {
     "data": {
      "text/plain": [
       "(118961, 2)"
      ]
     },
     "execution_count": 56,
     "metadata": {},
     "output_type": "execute_result"
    }
   ],
   "source": [
    "#Remove duplicates\n",
    "Emo_Data=Emo_Data.drop_duplicates(subset=['Text'])\n",
    "Emo_Data.shape"
   ]
  },
  {
   "cell_type": "code",
   "execution_count": 57,
   "id": "87b01ffd",
   "metadata": {},
   "outputs": [
    {
     "name": "stdout",
     "output_type": "stream",
     "text": [
      "Instances per intent\n",
      "neutral           24401\n",
      "sadness           12427\n",
      "worry              8437\n",
      "happy              7008\n",
      "love               6958\n",
      "anger              5304\n",
      "happiness          5184\n",
      "admiration         4874\n",
      "approval           4303\n",
      "surprise           4000\n",
      "fear               3341\n",
      "annoyance          3057\n",
      "amusement          2555\n",
      "gratitude          2530\n",
      "disapproval        2445\n",
      "curiosity          2230\n",
      "confusion          1812\n",
      "fun                1775\n",
      "relief             1761\n",
      "disappointment     1723\n",
      "joy                1383\n",
      "optimism           1371\n",
      "caring             1358\n",
      "realization        1343\n",
      "hate               1322\n",
      "excitement         1201\n",
      "disgust             866\n",
      "empty               822\n",
      "desire              803\n",
      "enthusiasm          758\n",
      "embarrassment       437\n",
      "remorse             432\n",
      "nervousness         241\n",
      "pride               187\n",
      "boredom             179\n",
      "grief               133\n",
      "Name: Emotion, dtype: int64\n",
      "\n",
      "Intent percentage (%)\n",
      "neutral           21.0\n",
      "sadness           10.0\n",
      "worry              7.0\n",
      "happy              6.0\n",
      "love               6.0\n",
      "anger              4.0\n",
      "happiness          4.0\n",
      "admiration         4.0\n",
      "approval           4.0\n",
      "surprise           3.0\n",
      "fear               3.0\n",
      "annoyance          3.0\n",
      "amusement          2.0\n",
      "gratitude          2.0\n",
      "disapproval        2.0\n",
      "curiosity          2.0\n",
      "confusion          2.0\n",
      "fun                1.0\n",
      "relief             1.0\n",
      "disappointment     1.0\n",
      "joy                1.0\n",
      "optimism           1.0\n",
      "caring             1.0\n",
      "realization        1.0\n",
      "hate               1.0\n",
      "excitement         1.0\n",
      "disgust            1.0\n",
      "empty              1.0\n",
      "desire             1.0\n",
      "enthusiasm         1.0\n",
      "embarrassment      0.0\n",
      "remorse            0.0\n",
      "nervousness        0.0\n",
      "pride              0.0\n",
      "boredom            0.0\n",
      "grief              0.0\n",
      "Name: Emotion, dtype: float64\n"
     ]
    }
   ],
   "source": [
    "#Check instances \n",
    "print('Instances per intent')\n",
    "print(Emo_Data['Emotion'].value_counts())\n",
    "x=Emo_Data['Emotion'].value_counts()\n",
    "y=(x/118961)*100\n",
    "print('')\n",
    "print('Intent percentage (%)')\n",
    "print(round(y,0))"
   ]
  },
  {
   "cell_type": "code",
   "execution_count": 58,
   "id": "55685640",
   "metadata": {},
   "outputs": [],
   "source": [
    "#Merge emotions with similar content to create a more balanced dataset\n",
    "Emo_Data['Emotion'] = Emo_Data['Emotion'].replace(['happiness', 'happy'], 'happiness')\n",
    "Emo_Data['Emotion'] = Emo_Data['Emotion'].replace(['excitement', 'enthusiasm'], 'excitement')\n",
    "Emo_Data['Emotion'] = Emo_Data['Emotion'].replace(['worry', 'nervousness'], 'worry')\n",
    "Emo_Data['Emotion'] = Emo_Data['Emotion'].replace(['sadness', 'grief'], 'sadness')"
   ]
  },
  {
   "cell_type": "code",
   "execution_count": 59,
   "id": "dce8b00f",
   "metadata": {},
   "outputs": [
    {
     "name": "stdout",
     "output_type": "stream",
     "text": [
      "neutral           24401\n",
      "sadness           12560\n",
      "happiness         12192\n",
      "worry              8678\n",
      "love               6958\n",
      "anger              5304\n",
      "admiration         4874\n",
      "approval           4303\n",
      "surprise           4000\n",
      "fear               3341\n",
      "annoyance          3057\n",
      "amusement          2555\n",
      "gratitude          2530\n",
      "disapproval        2445\n",
      "curiosity          2230\n",
      "excitement         1959\n",
      "confusion          1812\n",
      "fun                1775\n",
      "relief             1761\n",
      "disappointment     1723\n",
      "joy                1383\n",
      "optimism           1371\n",
      "caring             1358\n",
      "realization        1343\n",
      "hate               1322\n",
      "disgust             866\n",
      "empty               822\n",
      "desire              803\n",
      "embarrassment       437\n",
      "remorse             432\n",
      "pride               187\n",
      "boredom             179\n",
      "Name: Emotion, dtype: int64\n"
     ]
    }
   ],
   "source": [
    "print(Emo_Data['Emotion'].value_counts())"
   ]
  },
  {
   "cell_type": "code",
   "execution_count": 60,
   "id": "72a6bfe1",
   "metadata": {},
   "outputs": [],
   "source": [
    "Emo_Data.to_csv('Emo_Data.csv', index=False)"
   ]
  },
  {
   "cell_type": "code",
   "execution_count": 61,
   "id": "75899d6d",
   "metadata": {},
   "outputs": [],
   "source": [
    "#Keep the 10 most frequent emotions plus 'neutral'\n",
    "Emotions= Emo_Data['Emotion'].value_counts()\n",
    "valid_Emotions = Emotions[Emotions >= 3000].index\n",
    "Emo_Data_10c = Emo_Data[Emo_Data['Emotion'].isin(valid_Emotions)]"
   ]
  },
  {
   "cell_type": "code",
   "execution_count": 62,
   "id": "70162191",
   "metadata": {},
   "outputs": [
    {
     "data": {
      "text/plain": [
       "(89668, 2)"
      ]
     },
     "execution_count": 62,
     "metadata": {},
     "output_type": "execute_result"
    }
   ],
   "source": [
    "Emo_Data_10c.shape"
   ]
  },
  {
   "cell_type": "code",
   "execution_count": 63,
   "id": "8b43d916",
   "metadata": {},
   "outputs": [
    {
     "name": "stdout",
     "output_type": "stream",
     "text": [
      "Instances per intent\n",
      "neutral       24401\n",
      "sadness       12560\n",
      "happiness     12192\n",
      "worry          8678\n",
      "love           6958\n",
      "anger          5304\n",
      "admiration     4874\n",
      "approval       4303\n",
      "surprise       4000\n",
      "fear           3341\n",
      "annoyance      3057\n",
      "Name: Emotion, dtype: int64\n",
      "\n",
      "Intent percentage (%)\n",
      "neutral       27.0\n",
      "sadness       14.0\n",
      "happiness     14.0\n",
      "worry         10.0\n",
      "love           8.0\n",
      "anger          6.0\n",
      "admiration     5.0\n",
      "approval       5.0\n",
      "surprise       4.0\n",
      "fear           4.0\n",
      "annoyance      3.0\n",
      "Name: Emotion, dtype: float64\n"
     ]
    }
   ],
   "source": [
    "print('Instances per intent')\n",
    "print(Emo_Data_10c['Emotion'].value_counts())\n",
    "x=Emo_Data_10c['Emotion'].value_counts()\n",
    "y=(x/89668)*100\n",
    "print('')\n",
    "print('Intent percentage (%)')\n",
    "print(round(y,0))"
   ]
  },
  {
   "cell_type": "code",
   "execution_count": 64,
   "id": "8b43c79d",
   "metadata": {},
   "outputs": [],
   "source": [
    "Emo_Data_10c.to_csv('Emo_Data_10c.csv', index=False)"
   ]
  },
  {
   "cell_type": "code",
   "execution_count": 66,
   "id": "ff3f1c03",
   "metadata": {},
   "outputs": [
    {
     "data": {
      "text/plain": [
       "array(['sadness', 'anger', 'love', 'surprise', 'fear', 'happiness',\n",
       "       'neutral', 'worry', 'admiration', 'annoyance', 'approval'],\n",
       "      dtype=object)"
      ]
     },
     "execution_count": 66,
     "metadata": {},
     "output_type": "execute_result"
    }
   ],
   "source": [
    "Emo_Data_10c['Emotion'].unique()"
   ]
  },
  {
   "cell_type": "code",
   "execution_count": 67,
   "id": "fd566f7a",
   "metadata": {},
   "outputs": [],
   "source": [
    "Emo_Data['Emotion']=Emo_Data['Emotion'].replace(['happiness', 'happy','love','excitement', 'fun', 'relief', \n",
    "                                                   'gratitude', 'amusement','admiration','optimism','caring',\n",
    "                                                  'joy', 'approval','pride', 'desire'], 'positive')\n",
    "Emo_Data['Emotion']= Emo_Data['Emotion'].replace(['sadness', 'anger', 'fear', 'empty','worry', 'hate',\n",
    "                                                    'boredom', 'disapproval', 'disappointment', 'annoyance',\n",
    "                                                   'disgust', 'remorse','embarrassment'], 'negative')\n",
    "Emo_Data['Emotion']= Emo_Data['Emotion'].replace(['surprise', 'realization', 'confusion',\n",
    "                                                  'curiosity'], 'ambiguous')\n"
   ]
  },
  {
   "cell_type": "code",
   "execution_count": 70,
   "id": "67986d28",
   "metadata": {},
   "outputs": [
    {
     "name": "stdout",
     "output_type": "stream",
     "text": [
      "['negative' 'positive' 'ambiguous' 'neutral']\n",
      "(118961, 2)\n",
      "positive     44009\n",
      "negative     41166\n",
      "neutral      24401\n",
      "ambiguous     9385\n",
      "Name: Emotion, dtype: int64\n",
      "\n",
      "Intent percentage (%)\n",
      "positive     37.0\n",
      "negative     35.0\n",
      "neutral      21.0\n",
      "ambiguous     8.0\n",
      "Name: Emotion, dtype: float64\n"
     ]
    }
   ],
   "source": [
    "Emo_Data_polarity=pd.DataFrame(Emo_Data)\n",
    "print(Emo_Data_polarity['Emotion'].unique())\n",
    "print(Emo_Data_polarity.shape)\n",
    "print(Emo_Data_polarity['Emotion'].value_counts())\n",
    "x=Emo_Data_polarity['Emotion'].value_counts()\n",
    "y=(x/118961)*100\n",
    "print('')\n",
    "print('Intent percentage (%)')\n",
    "print(round(y,0))"
   ]
  },
  {
   "cell_type": "code",
   "execution_count": 71,
   "id": "f710efde",
   "metadata": {},
   "outputs": [],
   "source": [
    "Emo_Data_polarity.to_csv('Emo_Data_polarity.csv', index=False)"
   ]
  }
 ],
 "metadata": {
  "kernelspec": {
   "display_name": "Python 3 (ipykernel)",
   "language": "python",
   "name": "python3"
  },
  "language_info": {
   "codemirror_mode": {
    "name": "ipython",
    "version": 3
   },
   "file_extension": ".py",
   "mimetype": "text/x-python",
   "name": "python",
   "nbconvert_exporter": "python",
   "pygments_lexer": "ipython3",
   "version": "3.10.9"
  }
 },
 "nbformat": 4,
 "nbformat_minor": 5
}
