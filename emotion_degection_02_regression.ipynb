{
 "cells": [
  {
   "cell_type": "markdown",
   "id": "ba859105",
   "metadata": {},
   "source": [
    "### Emotional annotation using VAD (02)"
   ]
  },
  {
   "cell_type": "code",
   "execution_count": 14,
   "id": "3ae0903b",
   "metadata": {},
   "outputs": [
    {
     "name": "stderr",
     "output_type": "stream",
     "text": [
      "[nltk_data] Downloading package punkt to /Users/stef_tse/nltk_data...\n",
      "[nltk_data]   Package punkt is already up-to-date!\n",
      "[nltk_data] Downloading package stopwords to\n",
      "[nltk_data]     /Users/stef_tse/nltk_data...\n",
      "[nltk_data]   Package stopwords is already up-to-date!\n"
     ]
    }
   ],
   "source": [
    "import nltk\n",
    "import re\n",
    "import pickle\n",
    "from nltk.tokenize import word_tokenize\n",
    "from sklearn.feature_extraction.text import TfidfVectorizer\n",
    "\n",
    "nltk.download(\"punkt\")\n",
    "from nltk.corpus import stopwords\n",
    "\n",
    "nltk.download(\"stopwords\")\n",
    "stop_words = set(stopwords.words(\"english\"))\n",
    "\n",
    "# File paths for the pre-trained vectorizer and model\n",
    "tfidf_save_path = \"tfidf_vectorizer.pkl\" \n",
    "regressor_chain_save_path = \"regressor_chain_model.pkl\"\n",
    "\n",
    "# Preprocessing function\n",
    "def preprocess(text):\n",
    "    text = nltk.word_tokenize(text.lower())  # Lowercase and tokenize\n",
    "    text = [w for w in text if w not in stop_words]  # Remove stop words\n",
    "    text = \" \".join(text)\n",
    "    text = re.sub(r\"[^a-zA-Z0-9.!?]+\", r\" \", text)  # Remove unwanted characters\n",
    "    text = re.sub(r\"\\s+\", r\" \", text).strip()  # Remove extra spaces\n",
    "    text = re.sub(r\"[^\\w\\s]\", \"\", text)  # Remove punctuation\n",
    "    return text\n",
    "\n"
   ]
  },
  {
   "cell_type": "code",
   "execution_count": 15,
   "id": "b89e9c35",
   "metadata": {},
   "outputs": [],
   "source": [
    "# Function to classify V, A, D values\n",
    "def classify_variable(value, var_type):\n",
    "    if var_type == \"V\":  # Valence\n",
    "        if -1.0 <= value <= -0.6:\n",
    "            return \"highly negative\"\n",
    "        elif -0.6 < value <= -0.2:\n",
    "            return \"moderately negative\"\n",
    "        elif -0.2 < value <= 0.2:\n",
    "            return \"neutral\"\n",
    "        elif 0.2 < value <= 0.6:\n",
    "            return \"moderately positive\"\n",
    "        elif 0.6 < value <= 1.0:\n",
    "            return \"highly positive\"\n",
    "    elif var_type == \"A\":  # Arousal\n",
    "        if -1.0 <= value <= -0.6:\n",
    "            return \"inactive\"\n",
    "        elif -0.6 < value <= -0.2:\n",
    "            return \"low arousal\"\n",
    "        elif -0.2 < value <= 0.2:\n",
    "            return \"neutral\"\n",
    "        elif 0.2 < value <= 0.6:\n",
    "            return \"moderate arousal\"\n",
    "        elif 0.6 < value <= 1.0:\n",
    "            return \"stress\"\n",
    "    elif var_type == \"D\":  # Dominance\n",
    "        if -1.0 <= value <= -0.6:\n",
    "            return \"poor dominance\"\n",
    "        elif -0.6 < value <= -0.2:\n",
    "            return \"low dominance\"\n",
    "        elif -0.2 < value <= 0.2:\n",
    "            return \"neutral\"\n",
    "        elif 0.2 < value <= 0.6:\n",
    "            return \"moderate dominance\"\n",
    "        elif 0.6 < value <= 1.0:\n",
    "            return \"high dominance\"\n",
    "\n"
   ]
  },
  {
   "cell_type": "code",
   "execution_count": 19,
   "id": "bbc1453c",
   "metadata": {},
   "outputs": [],
   "source": [
    "import joblib\n",
    "\n",
    "def load_pretrained_model(tfidf_path, regressor_chain_path):\n",
    "    vectorizer = joblib.load(tfidf_path)\n",
    "    model = joblib.load(regressor_chain_path)\n",
    "    return vectorizer, model\n",
    "\n",
    "# Predict and describe V, A, D values\n",
    "def predict_and_describe(vectorizer, model, input_text):\n",
    "    # Preprocess the input text\n",
    "    preprocessed_text = preprocess(input_text)\n",
    "    \n",
    "    # Transform text into TF-IDF features\n",
    "    X_input = vectorizer.transform([preprocessed_text])\n",
    "    \n",
    "    # Predict V, A, D values\n",
    "    predictions = model.predict(X_input).flatten()\n",
    "    \n",
    "    # Extract V, A, D values\n",
    "    V, A, D = predictions[0], predictions[1], predictions[2]\n",
    "    \n",
    "    # Classify each variable\n",
    "    V_category = classify_variable(V, \"V\")\n",
    "    A_category = classify_variable(A, \"A\")\n",
    "    D_category = classify_variable(D, \"D\")\n",
    "    \n",
    "    # Generate description\n",
    "    description = f\"Text Analysis:\\n- Valence (V): {V:.2f} ({V_category})\\n- Arousal (A): {A:.2f} ({A_category})\\n- Dominance (D): {D:.2f} ({D_category})\"\n",
    "    return description\n",
    "\n"
   ]
  },
  {
   "cell_type": "code",
   "execution_count": 20,
   "id": "2dd5a472",
   "metadata": {},
   "outputs": [
    {
     "name": "stdout",
     "output_type": "stream",
     "text": [
      "Text Analysis:\n",
      "- Valence (V): 0.26 (moderately positive)\n",
      "- Arousal (A): 0.08 (neutral)\n",
      "- Dominance (D): 0.10 (neutral)\n",
      "Text Analysis:\n",
      "- Valence (V): -0.05 (neutral)\n",
      "- Arousal (A): -0.11 (neutral)\n",
      "- Dominance (D): 0.02 (neutral)\n"
     ]
    }
   ],
   "source": [
    "\n",
    "# Main Execution\n",
    "if __name__ == \"__main__\":\n",
    "    # Load pre-trained vectorizer and model\n",
    "    vectorizer, model = load_pretrained_model(\"tfidf_vectorizer.pkl\" , \"regressor_chain_model.pkl\")\n",
    "    \n",
    "    # Example input sentences\n",
    "    input_sentence_1 = \"Amazing!\"\n",
    "    input_sentence_2 = \"I feel so tired and stressed.\"\n",
    "    \n",
    "    # Predict and describe for different sentences\n",
    "    result_1 = predict_and_describe(vectorizer, model, input_sentence_1)\n",
    "    result_2 = predict_and_describe(vectorizer, model, input_sentence_2)\n",
    "    \n",
    "    print(result_1)\n",
    "    print(result_2)\n"
   ]
  },
  {
   "cell_type": "code",
   "execution_count": null,
   "id": "95b0fc78",
   "metadata": {},
   "outputs": [],
   "source": []
  }
 ],
 "metadata": {
  "kernelspec": {
   "display_name": "Python 3 (ipykernel)",
   "language": "python",
   "name": "python3"
  },
  "language_info": {
   "codemirror_mode": {
    "name": "ipython",
    "version": 3
   },
   "file_extension": ".py",
   "mimetype": "text/x-python",
   "name": "python",
   "nbconvert_exporter": "python",
   "pygments_lexer": "ipython3",
   "version": "3.10.9"
  }
 },
 "nbformat": 4,
 "nbformat_minor": 5
}
